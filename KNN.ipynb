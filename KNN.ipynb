{
  "cells": [
    {
      "cell_type": "markdown",
      "id": "fafb2bbd-ff07-48be-ac38-4e065a1c9fb8",
      "metadata": {
        "id": "fafb2bbd-ff07-48be-ac38-4e065a1c9fb8"
      },
      "source": [
        "<center>\n",
        "    <h2>Minor Project (2021-22)</h2>\n",
        "    <h1>Automated Tool life Prediction System</h1>\n",
        "    <h3>Team C-19</h3>\n",
        "    <table>\n",
        "        <tr>\n",
        "            <td>Abhinav Gupta</td>\n",
        "            <td>01FE19BCS239</td>\n",
        "        </tr>\n",
        "         <tr>\n",
        "            <td>Shrinidhi Kulkarni</td>\n",
        "            <td>01FE19BCS241</td>\n",
        "        </tr>\n",
        "         <tr>\n",
        "            <td>Avantika Shrivastava</td>\n",
        "            <td>01FE19BCS253</td>\n",
        "        </tr>\n",
        "         <tr>\n",
        "            <td>Allauddin Khan</td>\n",
        "            <td>01FE20BCS410</td>\n",
        "        </tr>\n",
        "    </table>\n",
        "</center>\n",
        "\n",
        "\n",
        "### Introduction\n",
        "Dana Anand India Private Limited designs and manufactures drivetrain products for the OEMs of utility vehicles and commercial vehicles, off-highway and the related aftermarket segments, domestically and internationally. One of the challenges for the company is dissatisfactory utilization of cutting tools.\n",
        "Therefore, this project aims to utilise the input data from the sensors on the machines to develop an automatic tool life prediction model.\n",
        "\n",
        "### Problem Statement\n",
        "Based on data from collected from sensor measurements our task is to build an AI based model that predicts the insert tool life and its effect on product parameters.\n",
        "\n",
        "### Objectives\n",
        "1. To build AI based model to recommend whether tool insert is healthy or not.\n",
        "2. To test the performance of models using measurements like accuracy.\n",
        "3. To create a web based application that takes input data from database."
      ]
    },
    {
      "cell_type": "markdown",
      "id": "d02fa4f0-b895-454a-b499-896af869dca7",
      "metadata": {
        "id": "d02fa4f0-b895-454a-b499-896af869dca7"
      },
      "source": [
        "# 1.Import Libraries"
      ]
    },
    {
      "cell_type": "code",
      "execution_count": null,
      "id": "757f9472-c3a4-4e21-bde5-b093ec55bb6f",
      "metadata": {
        "id": "757f9472-c3a4-4e21-bde5-b093ec55bb6f"
      },
      "outputs": [],
      "source": [
        "import numpy as np # linear algebra\n",
        "import pandas as pd # data processing, CSV file I/O \n",
        "import matplotlib.pyplot as plt # for data visualization purposes\n",
        "import seaborn as sns # for data visualization\n",
        "%matplotlib inline\n",
        "import os\n",
        "import glob\n",
        "import datetime as dt\n",
        "from glob import glob as g\n",
        "import warnings\n",
        "import pickle\n",
        "warnings.filterwarnings(\"ignore\")"
      ]
    },
    {
      "cell_type": "markdown",
      "id": "d6a3496d-e8cc-4239-9936-0c72b2bb75b4",
      "metadata": {
        "id": "d6a3496d-e8cc-4239-9936-0c72b2bb75b4"
      },
      "source": [
        "# 2.Import Datasets\n",
        "- The dataset from the company contained three-day records from 'MAZAK-FZ' machine.\n",
        "- Each folder had different csv files for different attributes\n",
        "- The task is to append all these files into a single dataframe to simplify our study."
      ]
    },
    {
      "cell_type": "code",
      "execution_count": null,
      "id": "c73db3bd-5526-41f2-b19e-d208d1fc4543",
      "metadata": {
        "id": "c73db3bd-5526-41f2-b19e-d208d1fc4543",
        "outputId": "eac5091f-07c2-4752-db73-8956018a82fc",
        "colab": {
          "base_uri": "https://localhost:8080/",
          "height": 398
        }
      },
      "outputs": [
        {
          "output_type": "error",
          "ename": "FileNotFoundError",
          "evalue": "ignored",
          "traceback": [
            "\u001b[0;31m---------------------------------------------------------------------------\u001b[0m",
            "\u001b[0;31mFileNotFoundError\u001b[0m                         Traceback (most recent call last)",
            "\u001b[0;32m<ipython-input-3-068bbceca3d1>\u001b[0m in \u001b[0;36m<module>\u001b[0;34m()\u001b[0m\n\u001b[1;32m      1\u001b[0m \u001b[0;31m#df1 has data from day 1\u001b[0m\u001b[0;34m\u001b[0m\u001b[0;34m\u001b[0m\u001b[0;34m\u001b[0m\u001b[0m\n\u001b[0;32m----> 2\u001b[0;31m \u001b[0mdf1\u001b[0m \u001b[0;34m=\u001b[0m \u001b[0mpd\u001b[0m\u001b[0;34m.\u001b[0m\u001b[0mread_csv\u001b[0m\u001b[0;34m(\u001b[0m\u001b[0;34m\"Data/Data2/signal_analys_20220418_142047.csv\"\u001b[0m\u001b[0;34m)\u001b[0m\u001b[0;34m\u001b[0m\u001b[0;34m\u001b[0m\u001b[0m\n\u001b[0m\u001b[1;32m      3\u001b[0m \u001b[0mdf1\u001b[0m\u001b[0;34m.\u001b[0m\u001b[0mdropna\u001b[0m\u001b[0;34m(\u001b[0m\u001b[0maxis\u001b[0m\u001b[0;34m=\u001b[0m\u001b[0;34m'columns'\u001b[0m\u001b[0;34m,\u001b[0m\u001b[0mhow\u001b[0m\u001b[0;34m=\u001b[0m\u001b[0;34m'all'\u001b[0m\u001b[0;34m,\u001b[0m\u001b[0minplace\u001b[0m\u001b[0;34m=\u001b[0m\u001b[0;32mTrue\u001b[0m\u001b[0;34m)\u001b[0m\u001b[0;34m\u001b[0m\u001b[0;34m\u001b[0m\u001b[0m\n\u001b[1;32m      4\u001b[0m \u001b[0mdf2\u001b[0m \u001b[0;34m=\u001b[0m \u001b[0mpd\u001b[0m\u001b[0;34m.\u001b[0m\u001b[0mread_csv\u001b[0m\u001b[0;34m(\u001b[0m\u001b[0;34m\"Data/Data2/signal_analys_20220418_142115.csv\"\u001b[0m\u001b[0;34m)\u001b[0m\u001b[0;34m\u001b[0m\u001b[0;34m\u001b[0m\u001b[0m\n\u001b[1;32m      5\u001b[0m \u001b[0mdf2\u001b[0m\u001b[0;34m.\u001b[0m\u001b[0mdropna\u001b[0m\u001b[0;34m(\u001b[0m\u001b[0maxis\u001b[0m\u001b[0;34m=\u001b[0m\u001b[0;34m'columns'\u001b[0m\u001b[0;34m,\u001b[0m\u001b[0mhow\u001b[0m\u001b[0;34m=\u001b[0m\u001b[0;34m'all'\u001b[0m\u001b[0;34m,\u001b[0m\u001b[0minplace\u001b[0m\u001b[0;34m=\u001b[0m\u001b[0;32mTrue\u001b[0m\u001b[0;34m)\u001b[0m\u001b[0;34m\u001b[0m\u001b[0;34m\u001b[0m\u001b[0m\n",
            "\u001b[0;32m/usr/local/lib/python3.7/dist-packages/pandas/util/_decorators.py\u001b[0m in \u001b[0;36mwrapper\u001b[0;34m(*args, **kwargs)\u001b[0m\n\u001b[1;32m    309\u001b[0m                     \u001b[0mstacklevel\u001b[0m\u001b[0;34m=\u001b[0m\u001b[0mstacklevel\u001b[0m\u001b[0;34m,\u001b[0m\u001b[0;34m\u001b[0m\u001b[0;34m\u001b[0m\u001b[0m\n\u001b[1;32m    310\u001b[0m                 )\n\u001b[0;32m--> 311\u001b[0;31m             \u001b[0;32mreturn\u001b[0m \u001b[0mfunc\u001b[0m\u001b[0;34m(\u001b[0m\u001b[0;34m*\u001b[0m\u001b[0margs\u001b[0m\u001b[0;34m,\u001b[0m \u001b[0;34m**\u001b[0m\u001b[0mkwargs\u001b[0m\u001b[0;34m)\u001b[0m\u001b[0;34m\u001b[0m\u001b[0;34m\u001b[0m\u001b[0m\n\u001b[0m\u001b[1;32m    312\u001b[0m \u001b[0;34m\u001b[0m\u001b[0m\n\u001b[1;32m    313\u001b[0m         \u001b[0;32mreturn\u001b[0m \u001b[0mwrapper\u001b[0m\u001b[0;34m\u001b[0m\u001b[0;34m\u001b[0m\u001b[0m\n",
            "\u001b[0;32m/usr/local/lib/python3.7/dist-packages/pandas/io/parsers/readers.py\u001b[0m in \u001b[0;36mread_csv\u001b[0;34m(filepath_or_buffer, sep, delimiter, header, names, index_col, usecols, squeeze, prefix, mangle_dupe_cols, dtype, engine, converters, true_values, false_values, skipinitialspace, skiprows, skipfooter, nrows, na_values, keep_default_na, na_filter, verbose, skip_blank_lines, parse_dates, infer_datetime_format, keep_date_col, date_parser, dayfirst, cache_dates, iterator, chunksize, compression, thousands, decimal, lineterminator, quotechar, quoting, doublequote, escapechar, comment, encoding, encoding_errors, dialect, error_bad_lines, warn_bad_lines, on_bad_lines, delim_whitespace, low_memory, memory_map, float_precision, storage_options)\u001b[0m\n\u001b[1;32m    584\u001b[0m     \u001b[0mkwds\u001b[0m\u001b[0;34m.\u001b[0m\u001b[0mupdate\u001b[0m\u001b[0;34m(\u001b[0m\u001b[0mkwds_defaults\u001b[0m\u001b[0;34m)\u001b[0m\u001b[0;34m\u001b[0m\u001b[0;34m\u001b[0m\u001b[0m\n\u001b[1;32m    585\u001b[0m \u001b[0;34m\u001b[0m\u001b[0m\n\u001b[0;32m--> 586\u001b[0;31m     \u001b[0;32mreturn\u001b[0m \u001b[0m_read\u001b[0m\u001b[0;34m(\u001b[0m\u001b[0mfilepath_or_buffer\u001b[0m\u001b[0;34m,\u001b[0m \u001b[0mkwds\u001b[0m\u001b[0;34m)\u001b[0m\u001b[0;34m\u001b[0m\u001b[0;34m\u001b[0m\u001b[0m\n\u001b[0m\u001b[1;32m    587\u001b[0m \u001b[0;34m\u001b[0m\u001b[0m\n\u001b[1;32m    588\u001b[0m \u001b[0;34m\u001b[0m\u001b[0m\n",
            "\u001b[0;32m/usr/local/lib/python3.7/dist-packages/pandas/io/parsers/readers.py\u001b[0m in \u001b[0;36m_read\u001b[0;34m(filepath_or_buffer, kwds)\u001b[0m\n\u001b[1;32m    480\u001b[0m \u001b[0;34m\u001b[0m\u001b[0m\n\u001b[1;32m    481\u001b[0m     \u001b[0;31m# Create the parser.\u001b[0m\u001b[0;34m\u001b[0m\u001b[0;34m\u001b[0m\u001b[0;34m\u001b[0m\u001b[0m\n\u001b[0;32m--> 482\u001b[0;31m     \u001b[0mparser\u001b[0m \u001b[0;34m=\u001b[0m \u001b[0mTextFileReader\u001b[0m\u001b[0;34m(\u001b[0m\u001b[0mfilepath_or_buffer\u001b[0m\u001b[0;34m,\u001b[0m \u001b[0;34m**\u001b[0m\u001b[0mkwds\u001b[0m\u001b[0;34m)\u001b[0m\u001b[0;34m\u001b[0m\u001b[0;34m\u001b[0m\u001b[0m\n\u001b[0m\u001b[1;32m    483\u001b[0m \u001b[0;34m\u001b[0m\u001b[0m\n\u001b[1;32m    484\u001b[0m     \u001b[0;32mif\u001b[0m \u001b[0mchunksize\u001b[0m \u001b[0;32mor\u001b[0m \u001b[0miterator\u001b[0m\u001b[0;34m:\u001b[0m\u001b[0;34m\u001b[0m\u001b[0;34m\u001b[0m\u001b[0m\n",
            "\u001b[0;32m/usr/local/lib/python3.7/dist-packages/pandas/io/parsers/readers.py\u001b[0m in \u001b[0;36m__init__\u001b[0;34m(self, f, engine, **kwds)\u001b[0m\n\u001b[1;32m    809\u001b[0m             \u001b[0mself\u001b[0m\u001b[0;34m.\u001b[0m\u001b[0moptions\u001b[0m\u001b[0;34m[\u001b[0m\u001b[0;34m\"has_index_names\"\u001b[0m\u001b[0;34m]\u001b[0m \u001b[0;34m=\u001b[0m \u001b[0mkwds\u001b[0m\u001b[0;34m[\u001b[0m\u001b[0;34m\"has_index_names\"\u001b[0m\u001b[0;34m]\u001b[0m\u001b[0;34m\u001b[0m\u001b[0;34m\u001b[0m\u001b[0m\n\u001b[1;32m    810\u001b[0m \u001b[0;34m\u001b[0m\u001b[0m\n\u001b[0;32m--> 811\u001b[0;31m         \u001b[0mself\u001b[0m\u001b[0;34m.\u001b[0m\u001b[0m_engine\u001b[0m \u001b[0;34m=\u001b[0m \u001b[0mself\u001b[0m\u001b[0;34m.\u001b[0m\u001b[0m_make_engine\u001b[0m\u001b[0;34m(\u001b[0m\u001b[0mself\u001b[0m\u001b[0;34m.\u001b[0m\u001b[0mengine\u001b[0m\u001b[0;34m)\u001b[0m\u001b[0;34m\u001b[0m\u001b[0;34m\u001b[0m\u001b[0m\n\u001b[0m\u001b[1;32m    812\u001b[0m \u001b[0;34m\u001b[0m\u001b[0m\n\u001b[1;32m    813\u001b[0m     \u001b[0;32mdef\u001b[0m \u001b[0mclose\u001b[0m\u001b[0;34m(\u001b[0m\u001b[0mself\u001b[0m\u001b[0;34m)\u001b[0m\u001b[0;34m:\u001b[0m\u001b[0;34m\u001b[0m\u001b[0;34m\u001b[0m\u001b[0m\n",
            "\u001b[0;32m/usr/local/lib/python3.7/dist-packages/pandas/io/parsers/readers.py\u001b[0m in \u001b[0;36m_make_engine\u001b[0;34m(self, engine)\u001b[0m\n\u001b[1;32m   1038\u001b[0m             )\n\u001b[1;32m   1039\u001b[0m         \u001b[0;31m# error: Too many arguments for \"ParserBase\"\u001b[0m\u001b[0;34m\u001b[0m\u001b[0;34m\u001b[0m\u001b[0;34m\u001b[0m\u001b[0m\n\u001b[0;32m-> 1040\u001b[0;31m         \u001b[0;32mreturn\u001b[0m \u001b[0mmapping\u001b[0m\u001b[0;34m[\u001b[0m\u001b[0mengine\u001b[0m\u001b[0;34m]\u001b[0m\u001b[0;34m(\u001b[0m\u001b[0mself\u001b[0m\u001b[0;34m.\u001b[0m\u001b[0mf\u001b[0m\u001b[0;34m,\u001b[0m \u001b[0;34m**\u001b[0m\u001b[0mself\u001b[0m\u001b[0;34m.\u001b[0m\u001b[0moptions\u001b[0m\u001b[0;34m)\u001b[0m  \u001b[0;31m# type: ignore[call-arg]\u001b[0m\u001b[0;34m\u001b[0m\u001b[0;34m\u001b[0m\u001b[0m\n\u001b[0m\u001b[1;32m   1041\u001b[0m \u001b[0;34m\u001b[0m\u001b[0m\n\u001b[1;32m   1042\u001b[0m     \u001b[0;32mdef\u001b[0m \u001b[0m_failover_to_python\u001b[0m\u001b[0;34m(\u001b[0m\u001b[0mself\u001b[0m\u001b[0;34m)\u001b[0m\u001b[0;34m:\u001b[0m\u001b[0;34m\u001b[0m\u001b[0;34m\u001b[0m\u001b[0m\n",
            "\u001b[0;32m/usr/local/lib/python3.7/dist-packages/pandas/io/parsers/c_parser_wrapper.py\u001b[0m in \u001b[0;36m__init__\u001b[0;34m(self, src, **kwds)\u001b[0m\n\u001b[1;32m     49\u001b[0m \u001b[0;34m\u001b[0m\u001b[0m\n\u001b[1;32m     50\u001b[0m         \u001b[0;31m# open handles\u001b[0m\u001b[0;34m\u001b[0m\u001b[0;34m\u001b[0m\u001b[0;34m\u001b[0m\u001b[0m\n\u001b[0;32m---> 51\u001b[0;31m         \u001b[0mself\u001b[0m\u001b[0;34m.\u001b[0m\u001b[0m_open_handles\u001b[0m\u001b[0;34m(\u001b[0m\u001b[0msrc\u001b[0m\u001b[0;34m,\u001b[0m \u001b[0mkwds\u001b[0m\u001b[0;34m)\u001b[0m\u001b[0;34m\u001b[0m\u001b[0;34m\u001b[0m\u001b[0m\n\u001b[0m\u001b[1;32m     52\u001b[0m         \u001b[0;32massert\u001b[0m \u001b[0mself\u001b[0m\u001b[0;34m.\u001b[0m\u001b[0mhandles\u001b[0m \u001b[0;32mis\u001b[0m \u001b[0;32mnot\u001b[0m \u001b[0;32mNone\u001b[0m\u001b[0;34m\u001b[0m\u001b[0;34m\u001b[0m\u001b[0m\n\u001b[1;32m     53\u001b[0m \u001b[0;34m\u001b[0m\u001b[0m\n",
            "\u001b[0;32m/usr/local/lib/python3.7/dist-packages/pandas/io/parsers/base_parser.py\u001b[0m in \u001b[0;36m_open_handles\u001b[0;34m(self, src, kwds)\u001b[0m\n\u001b[1;32m    227\u001b[0m             \u001b[0mmemory_map\u001b[0m\u001b[0;34m=\u001b[0m\u001b[0mkwds\u001b[0m\u001b[0;34m.\u001b[0m\u001b[0mget\u001b[0m\u001b[0;34m(\u001b[0m\u001b[0;34m\"memory_map\"\u001b[0m\u001b[0;34m,\u001b[0m \u001b[0;32mFalse\u001b[0m\u001b[0;34m)\u001b[0m\u001b[0;34m,\u001b[0m\u001b[0;34m\u001b[0m\u001b[0;34m\u001b[0m\u001b[0m\n\u001b[1;32m    228\u001b[0m             \u001b[0mstorage_options\u001b[0m\u001b[0;34m=\u001b[0m\u001b[0mkwds\u001b[0m\u001b[0;34m.\u001b[0m\u001b[0mget\u001b[0m\u001b[0;34m(\u001b[0m\u001b[0;34m\"storage_options\"\u001b[0m\u001b[0;34m,\u001b[0m \u001b[0;32mNone\u001b[0m\u001b[0;34m)\u001b[0m\u001b[0;34m,\u001b[0m\u001b[0;34m\u001b[0m\u001b[0;34m\u001b[0m\u001b[0m\n\u001b[0;32m--> 229\u001b[0;31m             \u001b[0merrors\u001b[0m\u001b[0;34m=\u001b[0m\u001b[0mkwds\u001b[0m\u001b[0;34m.\u001b[0m\u001b[0mget\u001b[0m\u001b[0;34m(\u001b[0m\u001b[0;34m\"encoding_errors\"\u001b[0m\u001b[0;34m,\u001b[0m \u001b[0;34m\"strict\"\u001b[0m\u001b[0;34m)\u001b[0m\u001b[0;34m,\u001b[0m\u001b[0;34m\u001b[0m\u001b[0;34m\u001b[0m\u001b[0m\n\u001b[0m\u001b[1;32m    230\u001b[0m         )\n\u001b[1;32m    231\u001b[0m \u001b[0;34m\u001b[0m\u001b[0m\n",
            "\u001b[0;32m/usr/local/lib/python3.7/dist-packages/pandas/io/common.py\u001b[0m in \u001b[0;36mget_handle\u001b[0;34m(path_or_buf, mode, encoding, compression, memory_map, is_text, errors, storage_options)\u001b[0m\n\u001b[1;32m    705\u001b[0m                 \u001b[0mencoding\u001b[0m\u001b[0;34m=\u001b[0m\u001b[0mioargs\u001b[0m\u001b[0;34m.\u001b[0m\u001b[0mencoding\u001b[0m\u001b[0;34m,\u001b[0m\u001b[0;34m\u001b[0m\u001b[0;34m\u001b[0m\u001b[0m\n\u001b[1;32m    706\u001b[0m                 \u001b[0merrors\u001b[0m\u001b[0;34m=\u001b[0m\u001b[0merrors\u001b[0m\u001b[0;34m,\u001b[0m\u001b[0;34m\u001b[0m\u001b[0;34m\u001b[0m\u001b[0m\n\u001b[0;32m--> 707\u001b[0;31m                 \u001b[0mnewline\u001b[0m\u001b[0;34m=\u001b[0m\u001b[0;34m\"\"\u001b[0m\u001b[0;34m,\u001b[0m\u001b[0;34m\u001b[0m\u001b[0;34m\u001b[0m\u001b[0m\n\u001b[0m\u001b[1;32m    708\u001b[0m             )\n\u001b[1;32m    709\u001b[0m         \u001b[0;32melse\u001b[0m\u001b[0;34m:\u001b[0m\u001b[0;34m\u001b[0m\u001b[0;34m\u001b[0m\u001b[0m\n",
            "\u001b[0;31mFileNotFoundError\u001b[0m: [Errno 2] No such file or directory: 'Data/Data2/signal_analys_20220418_142047.csv'"
          ]
        }
      ],
      "source": [
        "#df1 has data from day 1\n",
        "df1 = pd.read_csv(\"Data/Data2/signal_analys_20220418_142047.csv\")\n",
        "df1.dropna(axis='columns',how='all',inplace=True)\n",
        "df2 = pd.read_csv(\"Data/Data2/signal_analys_20220418_142115.csv\")\n",
        "df2.dropna(axis='columns',how='all',inplace=True)\n",
        "df3 = pd.read_csv(\"Data/Data2/signal_analys_20220418_142159.csv\")\n",
        "df3.dropna(axis='columns',how='all',inplace=True)"
      ]
    },
    {
      "cell_type": "code",
      "execution_count": null,
      "id": "0291fdd0-bbf9-41bc-82f2-ae92aa8a5edd",
      "metadata": {
        "id": "0291fdd0-bbf9-41bc-82f2-ae92aa8a5edd",
        "outputId": "84980ec9-ed47-46c8-d984-ea96a74106d4"
      },
      "outputs": [
        {
          "data": {
            "text/html": [
              "<div>\n",
              "<style scoped>\n",
              "    .dataframe tbody tr th:only-of-type {\n",
              "        vertical-align: middle;\n",
              "    }\n",
              "\n",
              "    .dataframe tbody tr th {\n",
              "        vertical-align: top;\n",
              "    }\n",
              "\n",
              "    .dataframe thead th {\n",
              "        text-align: right;\n",
              "    }\n",
              "</style>\n",
              "<table border=\"1\" class=\"dataframe\">\n",
              "  <thead>\n",
              "    <tr style=\"text-align: right;\">\n",
              "      <th></th>\n",
              "      <th>Date</th>\n",
              "      <th>Servo_Speed_A0</th>\n",
              "      <th>Servo_Speed_A1</th>\n",
              "      <th>Servo_Speed_A2</th>\n",
              "      <th>Servo_Load_A0</th>\n",
              "      <th>Servo_Load_A1</th>\n",
              "      <th>Servo_Load_A2</th>\n",
              "      <th>Servo_Load_Current(%)_A0</th>\n",
              "      <th>Servo_Load_Current(%)_A1</th>\n",
              "      <th>Servo_Load_Current(%)_A2</th>\n",
              "    </tr>\n",
              "  </thead>\n",
              "  <tbody>\n",
              "    <tr>\n",
              "      <th>0</th>\n",
              "      <td>2022/01/11 00:00:00.000</td>\n",
              "      <td>57.0</td>\n",
              "      <td>-1726.0</td>\n",
              "      <td>0.0</td>\n",
              "      <td>17.5</td>\n",
              "      <td>9.5</td>\n",
              "      <td>77.5</td>\n",
              "      <td>17.5</td>\n",
              "      <td>64.5</td>\n",
              "      <td>-1.5</td>\n",
              "    </tr>\n",
              "    <tr>\n",
              "      <th>1</th>\n",
              "      <td>2022/01/11 00:01:00.000</td>\n",
              "      <td>-511.5</td>\n",
              "      <td>1631.5</td>\n",
              "      <td>889.0</td>\n",
              "      <td>17.0</td>\n",
              "      <td>29.5</td>\n",
              "      <td>5.5</td>\n",
              "      <td>70.0</td>\n",
              "      <td>-86.0</td>\n",
              "      <td>74.5</td>\n",
              "    </tr>\n",
              "    <tr>\n",
              "      <th>2</th>\n",
              "      <td>2022/01/11 00:02:00.000</td>\n",
              "      <td>0.0</td>\n",
              "      <td>0.0</td>\n",
              "      <td>0.0</td>\n",
              "      <td>21.5</td>\n",
              "      <td>2.0</td>\n",
              "      <td>0.0</td>\n",
              "      <td>21.5</td>\n",
              "      <td>-2.0</td>\n",
              "      <td>0.0</td>\n",
              "    </tr>\n",
              "    <tr>\n",
              "      <th>3</th>\n",
              "      <td>2022/01/11 00:03:00.000</td>\n",
              "      <td>0.0</td>\n",
              "      <td>0.0</td>\n",
              "      <td>0.0</td>\n",
              "      <td>21.5</td>\n",
              "      <td>2.0</td>\n",
              "      <td>0.0</td>\n",
              "      <td>21.5</td>\n",
              "      <td>-2.0</td>\n",
              "      <td>0.0</td>\n",
              "    </tr>\n",
              "    <tr>\n",
              "      <th>4</th>\n",
              "      <td>2022/01/11 00:04:00.000</td>\n",
              "      <td>0.0</td>\n",
              "      <td>0.0</td>\n",
              "      <td>0.0</td>\n",
              "      <td>21.5</td>\n",
              "      <td>2.0</td>\n",
              "      <td>0.0</td>\n",
              "      <td>21.5</td>\n",
              "      <td>-2.0</td>\n",
              "      <td>0.0</td>\n",
              "    </tr>\n",
              "  </tbody>\n",
              "</table>\n",
              "</div>"
            ],
            "text/plain": [
              "                      Date  Servo_Speed_A0  Servo_Speed_A1  Servo_Speed_A2  \\\n",
              "0  2022/01/11 00:00:00.000            57.0         -1726.0             0.0   \n",
              "1  2022/01/11 00:01:00.000          -511.5          1631.5           889.0   \n",
              "2  2022/01/11 00:02:00.000             0.0             0.0             0.0   \n",
              "3  2022/01/11 00:03:00.000             0.0             0.0             0.0   \n",
              "4  2022/01/11 00:04:00.000             0.0             0.0             0.0   \n",
              "\n",
              "   Servo_Load_A0  Servo_Load_A1  Servo_Load_A2  Servo_Load_Current(%)_A0  \\\n",
              "0           17.5            9.5           77.5                      17.5   \n",
              "1           17.0           29.5            5.5                      70.0   \n",
              "2           21.5            2.0            0.0                      21.5   \n",
              "3           21.5            2.0            0.0                      21.5   \n",
              "4           21.5            2.0            0.0                      21.5   \n",
              "\n",
              "   Servo_Load_Current(%)_A1  Servo_Load_Current(%)_A2  \n",
              "0                      64.5                      -1.5  \n",
              "1                     -86.0                      74.5  \n",
              "2                      -2.0                       0.0  \n",
              "3                      -2.0                       0.0  \n",
              "4                      -2.0                       0.0  "
            ]
          },
          "execution_count": 101,
          "metadata": {},
          "output_type": "execute_result"
        }
      ],
      "source": [
        "#Appending required attributes into one frame\n",
        "ele=pd.DataFrame()\n",
        "ele['Date']=df1['date']\n",
        "ele['Servo_Speed_A0']= df1['MAZAK_FZ:Speed of servo motor MAZAK_FZ P1 A0-ValueMid']\n",
        "ele['Servo_Speed_A1']=df1['MAZAK_FZ:Speed of servo motor MAZAK_FZ P1 A1-ValueMid']\n",
        "ele['Servo_Speed_A2']=df1['MAZAK_FZ:Speed of servo motor MAZAK_FZ P1 A2-ValueMid']\n",
        "ele['Servo_Load_A0']=df2['MAZAK_FZ:Servo load MAZAK_FZ P1 A0-ValueMid']\n",
        "ele['Servo_Load_A1']=df2['MAZAK_FZ:Servo load MAZAK_FZ P1 A1-ValueMid']\n",
        "ele['Servo_Load_A2']=df2['MAZAK_FZ:Servo load MAZAK_FZ P1 A2-ValueMid']\n",
        "ele['Servo_Load_Current(%)_A0']=df3['MAZAK_FZ:Servo load current(%) MAZAK_FZ P1 A0-ValueMid']\n",
        "ele['Servo_Load_Current(%)_A1']=df3['MAZAK_FZ:Servo load current(%) MAZAK_FZ P1 A1-ValueMid']\n",
        "ele['Servo_Load_Current(%)_A2']=df3['MAZAK_FZ:Servo load current(%) MAZAK_FZ P1 A2-ValueMid']\n",
        "ele.head()"
      ]
    },
    {
      "cell_type": "markdown",
      "id": "b3081ff1-11c7-416e-8989-0855d10ab360",
      "metadata": {
        "id": "b3081ff1-11c7-416e-8989-0855d10ab360"
      },
      "source": [
        "# 3.Explorative Data Analysis\n",
        "Now we explore data to get insights about data"
      ]
    },
    {
      "cell_type": "code",
      "execution_count": null,
      "id": "5e9a2597-c78d-468b-9817-ca4b381a1262",
      "metadata": {
        "id": "5e9a2597-c78d-468b-9817-ca4b381a1262",
        "outputId": "e7532c24-d1a0-495f-a7c9-30a2fcdbc9eb"
      },
      "outputs": [
        {
          "data": {
            "text/plain": [
              "(1440, 10)"
            ]
          },
          "execution_count": 102,
          "metadata": {},
          "output_type": "execute_result"
        }
      ],
      "source": [
        "# view dimensions of dataset\n",
        "\n",
        "ele.shape"
      ]
    },
    {
      "cell_type": "markdown",
      "id": "ed6a85b5-3a45-495e-ba96-69367e224a8a",
      "metadata": {
        "id": "ed6a85b5-3a45-495e-ba96-69367e224a8a"
      },
      "source": [
        "We can see that there are 1440 instances and 10 attributes in the data set."
      ]
    },
    {
      "cell_type": "markdown",
      "id": "c7804798-8e51-4be0-9a1e-9cc718f51fbe",
      "metadata": {
        "id": "c7804798-8e51-4be0-9a1e-9cc718f51fbe"
      },
      "source": [
        "### Add target attribute\n",
        "- The tool either 'needs replacement' or 'does not need replacement'.\n",
        "- Hence, it is a case of binary classification.\n",
        "- We will classify 'needs replacement' as 1 and 'does not need replacement' as 0.\n",
        "- From the dataset description of company, for a particular timespan all the records belong to class 0 and rest belong to class 1"
      ]
    },
    {
      "cell_type": "code",
      "execution_count": null,
      "id": "14a1cae1-f7a2-4b49-b512-a28998109102",
      "metadata": {
        "id": "14a1cae1-f7a2-4b49-b512-a28998109102"
      },
      "outputs": [],
      "source": [
        "#Adding target attribute\n",
        "ele['Class'] = 0\n",
        "ele.iloc[0:467]['Class']=0\n",
        "ele.iloc[468:]['Class']=1"
      ]
    },
    {
      "cell_type": "markdown",
      "id": "1a9dcc35-0b62-4b80-8c03-a469379cbec4",
      "metadata": {
        "id": "1a9dcc35-0b62-4b80-8c03-a469379cbec4"
      },
      "source": [
        "### Drop redundant columns\n",
        "\n",
        "We should drop any redundant columns from the dataset which does not have any predictive power. Here, Data is the redundant column."
      ]
    },
    {
      "cell_type": "code",
      "execution_count": null,
      "id": "22a44ba6-7a6f-4348-9723-612fcf619e0f",
      "metadata": {
        "id": "22a44ba6-7a6f-4348-9723-612fcf619e0f"
      },
      "outputs": [],
      "source": [
        "ele=ele.drop(['Date'], axis = 1)"
      ]
    },
    {
      "cell_type": "code",
      "execution_count": null,
      "id": "9c7cb0f2-9488-43d6-8db7-75a35fbaf0e4",
      "metadata": {
        "id": "9c7cb0f2-9488-43d6-8db7-75a35fbaf0e4",
        "outputId": "605a4250-cccd-48ff-ad2f-877715b99b97"
      },
      "outputs": [
        {
          "name": "stdout",
          "output_type": "stream",
          "text": [
            "<class 'pandas.core.frame.DataFrame'>\n",
            "RangeIndex: 1440 entries, 0 to 1439\n",
            "Data columns (total 10 columns):\n",
            " #   Column                    Non-Null Count  Dtype  \n",
            "---  ------                    --------------  -----  \n",
            " 0   Servo_Speed_A0            1438 non-null   float64\n",
            " 1   Servo_Speed_A1            1438 non-null   float64\n",
            " 2   Servo_Speed_A2            1438 non-null   float64\n",
            " 3   Servo_Load_A0             1438 non-null   float64\n",
            " 4   Servo_Load_A1             1438 non-null   float64\n",
            " 5   Servo_Load_A2             1438 non-null   float64\n",
            " 6   Servo_Load_Current(%)_A0  1438 non-null   float64\n",
            " 7   Servo_Load_Current(%)_A1  1438 non-null   float64\n",
            " 8   Servo_Load_Current(%)_A2  1438 non-null   float64\n",
            " 9   Class                     1440 non-null   int64  \n",
            "dtypes: float64(9), int64(1)\n",
            "memory usage: 112.6 KB\n"
          ]
        }
      ],
      "source": [
        "# view summary of dataset\n",
        "\n",
        "ele.info()"
      ]
    },
    {
      "cell_type": "markdown",
      "id": "1d4a4980-54c6-4660-9d0f-7af2bbaa4890",
      "metadata": {
        "id": "1d4a4980-54c6-4660-9d0f-7af2bbaa4890"
      },
      "source": [
        "### Explore problems within variables"
      ]
    },
    {
      "cell_type": "code",
      "execution_count": null,
      "id": "bce91c10-27bd-482e-bd56-e1cc2f06ad42",
      "metadata": {
        "id": "bce91c10-27bd-482e-bd56-e1cc2f06ad42",
        "outputId": "120b8635-632f-4f7a-979a-4b4e935d349f"
      },
      "outputs": [
        {
          "data": {
            "text/plain": [
              "Servo_Speed_A0              2\n",
              "Servo_Speed_A1              2\n",
              "Servo_Speed_A2              2\n",
              "Servo_Load_A0               2\n",
              "Servo_Load_A1               2\n",
              "Servo_Load_A2               2\n",
              "Servo_Load_Current(%)_A0    2\n",
              "Servo_Load_Current(%)_A1    2\n",
              "Servo_Load_Current(%)_A2    2\n",
              "Class                       0\n",
              "dtype: int64"
            ]
          },
          "execution_count": 106,
          "metadata": {},
          "output_type": "execute_result"
        }
      ],
      "source": [
        "# check missing values in variables\n",
        "\n",
        "ele.isnull().sum()"
      ]
    },
    {
      "cell_type": "markdown",
      "id": "419f916c-b526-4d2a-9fdd-16e2a5aa2efb",
      "metadata": {
        "id": "419f916c-b526-4d2a-9fdd-16e2a5aa2efb"
      },
      "source": [
        "We can see that the all columns except target contains missing values."
      ]
    },
    {
      "cell_type": "markdown",
      "id": "eb3046fc-ea9d-417e-8b9e-acf6f4e91319",
      "metadata": {
        "id": "eb3046fc-ea9d-417e-8b9e-acf6f4e91319"
      },
      "source": [
        "# 4.Data Visualization\n",
        "## Univariate plots\n",
        "### Check the distribution of variables\n",
        "\n",
        "Now, we will plot the histograms to check variable distributions to find out if they are normal or skewed."
      ]
    },
    {
      "cell_type": "code",
      "execution_count": null,
      "id": "403520fe-63c1-46f4-a4f8-9ff43d00159d",
      "metadata": {
        "id": "403520fe-63c1-46f4-a4f8-9ff43d00159d",
        "outputId": "4b537a90-89c3-4bc1-bda1-30d9515c52de"
      },
      "outputs": [
        {
          "data": {
            "image/png": "[encoded data removed]",
            "text/plain": [
              "<Figure size 2160x1800 with 10 Axes>"
            ]
          },
          "metadata": {
            "needs_background": "light"
          },
          "output_type": "display_data"
        }
      ],
      "source": [
        "# plot histograms of the variables\n",
        "\n",
        "\n",
        "plt.rcParams['figure.figsize']=(30,25)\n",
        "\n",
        "ele.plot(kind='hist', bins=10, subplots=True, layout=(5,2), sharex=False, sharey=False)\n",
        "\n",
        "plt.show()"
      ]
    },
    {
      "cell_type": "markdown",
      "id": "6e0b9c2a-6998-4b9d-85b3-b03963b1c574",
      "metadata": {
        "id": "6e0b9c2a-6998-4b9d-85b3-b03963b1c574"
      },
      "source": [
        "We can see that all the variables in the dataset are skewed in different manner."
      ]
    },
    {
      "cell_type": "markdown",
      "id": "9cd3e681-a000-4e02-bd70-f56ecffd91a9",
      "metadata": {
        "id": "9cd3e681-a000-4e02-bd70-f56ecffd91a9"
      },
      "source": [
        "## Multivariate plots\n",
        "### Estimating correlation coefficients\n",
        "\n",
        "Our dataset is very small. So, we can compute the standard correlation coefficient (also called Pearson's r) between every pair of attributes. We can compute it using the df.corr() method as follows:-"
      ]
    },
    {
      "cell_type": "code",
      "execution_count": null,
      "id": "1105a96a-e9e9-42f4-93e0-c9d878822079",
      "metadata": {
        "id": "1105a96a-e9e9-42f4-93e0-c9d878822079"
      },
      "outputs": [],
      "source": [
        "correlation = ele.corr()"
      ]
    },
    {
      "cell_type": "code",
      "execution_count": null,
      "id": "c50e60c2-6b78-46db-bc82-6511ba6e15aa",
      "metadata": {
        "id": "c50e60c2-6b78-46db-bc82-6511ba6e15aa",
        "outputId": "2c7dcf78-62ab-4c4f-b27e-8af82dc227ea"
      },
      "outputs": [
        {
          "data": {
            "text/plain": [
              "Class                       1.000000\n",
              "Servo_Speed_A1              0.087811\n",
              "Servo_Load_A1               0.033658\n",
              "Servo_Load_A0               0.013406\n",
              "Servo_Load_A2               0.006351\n",
              "Servo_Load_Current(%)_A1   -0.003979\n",
              "Servo_Speed_A0             -0.007051\n",
              "Servo_Load_Current(%)_A2   -0.023688\n",
              "Servo_Speed_A2             -0.026378\n",
              "Servo_Load_Current(%)_A0   -0.036329\n",
              "Name: Class, dtype: float64"
            ]
          },
          "execution_count": 109,
          "metadata": {},
          "output_type": "execute_result"
        }
      ],
      "source": [
        "correlation['Class'].sort_values(ascending=False)"
      ]
    },
    {
      "cell_type": "markdown",
      "id": "3b6d8fa8-bed3-4936-bed4-97a8ec1acff0",
      "metadata": {
        "id": "3b6d8fa8-bed3-4936-bed4-97a8ec1acff0"
      },
      "source": [
        "#### Interpretation\n",
        "\n",
        "- The correlation coefficient ranges from -1 to +1.\n",
        "\n",
        "- When it is close to 0, it means that there is no correlation."
      ]
    },
    {
      "cell_type": "markdown",
      "id": "f05aa4c1-2091-4331-b10d-07745f5be77e",
      "metadata": {
        "id": "f05aa4c1-2091-4331-b10d-07745f5be77e"
      },
      "source": [
        "#### Discover patterns and relationships\n",
        "\n",
        "An important step in EDA is to discover patterns and relationships between variables in the dataset. We will use the seaborn heatmap to explore the patterns and relationships in the dataset\n",
        "\n",
        "#### Correlation heat Map"
      ]
    },
    {
      "cell_type": "code",
      "execution_count": null,
      "id": "e228ab88-60be-4588-9749-58c445b56d15",
      "metadata": {
        "id": "e228ab88-60be-4588-9749-58c445b56d15",
        "outputId": "588fcef2-bf6d-42a0-aaae-c0a92335fd12"
      },
      "outputs": [
        {
          "data": {
            "image/png": "[encoded data removed]",
            "text/plain": [
              "<Figure size 720x576 with 2 Axes>"
            ]
          },
          "metadata": {
            "needs_background": "light"
          },
          "output_type": "display_data"
        }
      ],
      "source": [
        "plt.figure(figsize=(10,8))\n",
        "plt.title('Correlation of Attributes with Class variable')\n",
        "a = sns.heatmap(correlation, square=True, annot=True, fmt='.2f', linecolor='white')\n",
        "a.set_xticklabels(a.get_xticklabels(), rotation=90)\n",
        "a.set_yticklabels(a.get_yticklabels(), rotation=30)           \n",
        "plt.show()"
      ]
    },
    {
      "cell_type": "markdown",
      "id": "0bf1a9a8-b8be-4ca2-a67c-369f39d37498",
      "metadata": {
        "id": "0bf1a9a8-b8be-4ca2-a67c-369f39d37498"
      },
      "source": [
        "We can conclude that there is no strong correlation of Class with any variables.\n",
        "# 4. Declare feature vector and target variable"
      ]
    },
    {
      "cell_type": "code",
      "execution_count": null,
      "id": "12a8f54d-d329-4179-be92-3ff2c340ee27",
      "metadata": {
        "id": "12a8f54d-d329-4179-be92-3ff2c340ee27",
        "outputId": "c538738b-7646-49d9-96a9-1b8793cc6275",
        "colab": {
          "base_uri": "https://localhost:8080/",
          "height": 201
        }
      },
      "outputs": [
        {
          "output_type": "error",
          "ename": "NameError",
          "evalue": "ignored",
          "traceback": [
            "\u001b[0;31m---------------------------------------------------------------------------\u001b[0m",
            "\u001b[0;31mNameError\u001b[0m                                 Traceback (most recent call last)",
            "\u001b[0;32m<ipython-input-1-f960a5b082db>\u001b[0m in \u001b[0;36m<module>\u001b[0;34m()\u001b[0m\n\u001b[0;32m----> 1\u001b[0;31m \u001b[0mX\u001b[0m \u001b[0;34m=\u001b[0m \u001b[0mele\u001b[0m\u001b[0;34m.\u001b[0m\u001b[0mdrop\u001b[0m\u001b[0;34m(\u001b[0m\u001b[0;34m[\u001b[0m\u001b[0;34m'Class'\u001b[0m\u001b[0;34m]\u001b[0m\u001b[0;34m,\u001b[0m \u001b[0maxis\u001b[0m\u001b[0;34m=\u001b[0m\u001b[0;36m1\u001b[0m\u001b[0;34m)\u001b[0m\u001b[0;34m\u001b[0m\u001b[0;34m\u001b[0m\u001b[0m\n\u001b[0m\u001b[1;32m      2\u001b[0m \u001b[0;34m\u001b[0m\u001b[0m\n\u001b[1;32m      3\u001b[0m \u001b[0my\u001b[0m \u001b[0;34m=\u001b[0m \u001b[0mele\u001b[0m\u001b[0;34m[\u001b[0m\u001b[0;34m'Class'\u001b[0m\u001b[0;34m]\u001b[0m\u001b[0;34m\u001b[0m\u001b[0;34m\u001b[0m\u001b[0m\n",
            "\u001b[0;31mNameError\u001b[0m: name 'ele' is not defined"
          ]
        }
      ],
      "source": [
        "X = ele.drop(['Class'], axis=1)\n",
        "\n",
        "y = ele['Class']"
      ]
    },
    {
      "cell_type": "code",
      "execution_count": null,
      "id": "c35a2be0-3c18-43be-954b-49aa5f8ca29a",
      "metadata": {
        "id": "c35a2be0-3c18-43be-954b-49aa5f8ca29a"
      },
      "outputs": [],
      "source": [
        "# split X and y into training and testing sets\n",
        "\n",
        "from sklearn.model_selection import train_test_split\n",
        "\n",
        "X_train, X_test, y_train, y_test = train_test_split(X, y, test_size = 0.2, random_state = 0)"
      ]
    },
    {
      "cell_type": "code",
      "execution_count": null,
      "id": "417aabfe-69cb-4deb-974e-fa9cc8b458c1",
      "metadata": {
        "id": "417aabfe-69cb-4deb-974e-fa9cc8b458c1"
      },
      "outputs": [],
      "source": [
        "# check the shape of X_train and X_test\n",
        "\n",
        "X_train.shape, X_test.shape"
      ]
    },
    {
      "cell_type": "markdown",
      "id": "dd2fd41b-a8f5-400a-be28-d79502e476c7",
      "metadata": {
        "id": "dd2fd41b-a8f5-400a-be28-d79502e476c7"
      },
      "source": [
        "### Feature Engineering \n",
        "\n",
        "Feature Engineering is the process of transforming raw data into useful features that help us to understand our model better and increase its predictive power. We will carry out feature engineering on different types of variables. "
      ]
    },
    {
      "cell_type": "code",
      "execution_count": null,
      "id": "eb14fc44-d683-4f22-a1a5-5d22428df785",
      "metadata": {
        "id": "eb14fc44-d683-4f22-a1a5-5d22428df785"
      },
      "outputs": [],
      "source": [
        "# check data types in X_train\n",
        "\n",
        "X_train.dtypes"
      ]
    },
    {
      "cell_type": "code",
      "execution_count": null,
      "id": "4304f07e-6aba-409d-b681-4825a3d2278f",
      "metadata": {
        "id": "4304f07e-6aba-409d-b681-4825a3d2278f"
      },
      "outputs": [],
      "source": [
        "# check missing values in numerical variables in X_train\n",
        "\n",
        "X_train.isnull().sum()"
      ]
    },
    {
      "cell_type": "code",
      "execution_count": null,
      "id": "290f6ac6-e2d6-4ca1-8b63-2625e3edc216",
      "metadata": {
        "id": "290f6ac6-e2d6-4ca1-8b63-2625e3edc216"
      },
      "outputs": [],
      "source": [
        "# check missing values in numerical variables in X_test\n",
        "\n",
        "X_test.isnull().sum()"
      ]
    },
    {
      "cell_type": "markdown",
      "id": "cae80abc-772d-4d60-8c2a-5439f59aaada",
      "metadata": {
        "id": "cae80abc-772d-4d60-8c2a-5439f59aaada"
      },
      "source": [
        "#### Assumption\n",
        "\n",
        "- We assume that the data are missing completely at random (MCAR). \n",
        "- There are two methods which can be used to impute missing values. One is mean or median imputation and other one is random sample imputation. When there are outliers in the dataset, we should use median imputation. So, we will use median imputation because median imputation is robust to outliers.\n",
        "- We will impute missing values with the appropriate statistical measures of the data, in this case median.\n",
        "- Imputation should be done over the training set, and then propagated to the test set. It means that the statistical measures to be used to fill missing values both in train and test set, should be extracted from the train set only. This is to avoid overfitting."
      ]
    },
    {
      "cell_type": "code",
      "execution_count": null,
      "id": "3a7c4e7e-44d8-4700-8079-f87808cd2fb9",
      "metadata": {
        "id": "3a7c4e7e-44d8-4700-8079-f87808cd2fb9"
      },
      "outputs": [],
      "source": [
        "# impute missing values in X_train and X_test with respective column median in X_train\n",
        "\n",
        "for ele in [X_train, X_test]:\n",
        "    for col in X_train.columns:\n",
        "        col_median=X_train[col].median()\n",
        "        ele[col].fillna(col_median, inplace=True)"
      ]
    },
    {
      "cell_type": "code",
      "execution_count": null,
      "id": "ab6c8018-103e-4440-bd4f-11107837bd44",
      "metadata": {
        "id": "ab6c8018-103e-4440-bd4f-11107837bd44"
      },
      "outputs": [],
      "source": [
        "# check again missing values in numerical variables in X_train\n",
        "\n",
        "X_train.isnull().sum()"
      ]
    },
    {
      "cell_type": "code",
      "execution_count": null,
      "id": "9dcefded-ed74-4dc8-b817-96b16a9fe535",
      "metadata": {
        "id": "9dcefded-ed74-4dc8-b817-96b16a9fe535"
      },
      "outputs": [],
      "source": [
        "X_train.head()"
      ]
    },
    {
      "cell_type": "markdown",
      "id": "6503936e-0c62-4374-b823-269b2c8fd61b",
      "metadata": {
        "id": "6503936e-0c62-4374-b823-269b2c8fd61b"
      },
      "source": [
        "We now have training and testing set ready for model building. Before that, we should map all the feature variables onto the same scale. It is called feature scaling. We will do it as follows.\n",
        "### Feature Scaling"
      ]
    },
    {
      "cell_type": "code",
      "execution_count": null,
      "id": "99a77ce1-14f2-492b-acae-980e9bafb6a6",
      "metadata": {
        "id": "99a77ce1-14f2-492b-acae-980e9bafb6a6"
      },
      "outputs": [],
      "source": [
        "cols = X_train.columns"
      ]
    },
    {
      "cell_type": "code",
      "execution_count": null,
      "id": "a4c9c5f7-26b7-4ab0-88dd-0fad26767d59",
      "metadata": {
        "id": "a4c9c5f7-26b7-4ab0-88dd-0fad26767d59"
      },
      "outputs": [],
      "source": [
        "from sklearn.preprocessing import StandardScaler\n",
        "\n",
        "scaler = StandardScaler()\n",
        "\n",
        "X_train = scaler.fit_transform(X_train)\n",
        "\n",
        "X_test = scaler.transform(X_test)"
      ]
    },
    {
      "cell_type": "code",
      "execution_count": null,
      "id": "b783dc15-adf6-42c4-b43a-57d81bc59719",
      "metadata": {
        "id": "b783dc15-adf6-42c4-b43a-57d81bc59719"
      },
      "outputs": [],
      "source": [
        "X_train = pd.DataFrame(X_train, columns=[cols])"
      ]
    },
    {
      "cell_type": "code",
      "execution_count": null,
      "id": "8db654e3-792c-4313-bd79-6638d418c797",
      "metadata": {
        "id": "8db654e3-792c-4313-bd79-6638d418c797"
      },
      "outputs": [],
      "source": [
        "X_test = pd.DataFrame(X_test, columns=[cols])"
      ]
    },
    {
      "cell_type": "code",
      "execution_count": null,
      "id": "5fcc6093-6c3e-4d91-b2da-89bf1afd66f4",
      "metadata": {
        "id": "5fcc6093-6c3e-4d91-b2da-89bf1afd66f4"
      },
      "outputs": [],
      "source": [
        "X_train.head()"
      ]
    },
    {
      "cell_type": "markdown",
      "id": "948ce95d-1fc2-475e-a6e0-4e834eacf0a2",
      "metadata": {
        "id": "948ce95d-1fc2-475e-a6e0-4e834eacf0a2"
      },
      "source": [
        "We now have X_train dataset ready to be fed into the Logistic Regression classifier."
      ]
    },
    {
      "cell_type": "markdown",
      "id": "90296323-3073-4a77-a296-93ffb8bacb51",
      "metadata": {
        "id": "90296323-3073-4a77-a296-93ffb8bacb51"
      },
      "source": [
        "# 5. Modelling - Fit K Neighbours Classifier to the training eet "
      ]
    },
    {
      "cell_type": "code",
      "execution_count": null,
      "id": "aa0cb2ef-f15e-47b2-92e1-5257f6b11010",
      "metadata": {
        "id": "aa0cb2ef-f15e-47b2-92e1-5257f6b11010",
        "outputId": "6652826f-c6aa-447e-ac5b-ee1398927087"
      },
      "outputs": [
        {
          "data": {
            "text/plain": [
              "KNeighborsClassifier(n_neighbors=3)"
            ]
          },
          "execution_count": 126,
          "metadata": {},
          "output_type": "execute_result"
        }
      ],
      "source": [
        "# import KNeighbors ClaSSifier from sklearn\n",
        "from sklearn.neighbors import KNeighborsClassifier\n",
        "\n",
        "\n",
        "# instantiate the model\n",
        "knn = KNeighborsClassifier(n_neighbors=3)\n",
        "\n",
        "\n",
        "# fit the model to the training set\n",
        "knn.fit(X_train, y_train)"
      ]
    },
    {
      "cell_type": "code",
      "execution_count": null,
      "id": "d0fee5b2-d3fb-4caa-80df-00efb04e8db0",
      "metadata": {
        "id": "d0fee5b2-d3fb-4caa-80df-00efb04e8db0",
        "outputId": "bef5f5a1-a7a9-475f-8f66-a7090db5c0b3"
      },
      "outputs": [
        {
          "data": {
            "text/plain": [
              "array([0, 1, 1, 0, 1, 0, 1, 0, 1, 1, 1, 1, 0, 1, 1, 1, 1, 1, 1, 1, 1, 0,\n",
              "       1, 1, 1, 1, 1, 0, 1, 0, 1, 0, 1, 1, 1, 1, 1, 1, 0, 0, 1, 0, 0, 1,\n",
              "       1, 1, 0, 1, 1, 1, 1, 1, 1, 0, 1, 1, 1, 1, 1, 0, 1, 1, 0, 1, 1, 1,\n",
              "       1, 1, 0, 1, 0, 1, 1, 0, 1, 1, 1, 0, 1, 1, 1, 1, 1, 1, 1, 1, 1, 0,\n",
              "       1, 1, 1, 1, 1, 0, 1, 1, 0, 1, 1, 1, 0, 0, 1, 0, 1, 1, 1, 1, 1, 1,\n",
              "       1, 0, 1, 1, 1, 1, 1, 1, 1, 1, 1, 0, 0, 1, 0, 0, 1, 1, 0, 1, 1, 1,\n",
              "       1, 1, 1, 0, 1, 1, 1, 1, 1, 1, 0, 1, 0, 1, 1, 1, 0, 0, 0, 1, 1, 1,\n",
              "       0, 1, 1, 0, 1, 1, 1, 1, 1, 0, 1, 1, 0, 1, 1, 1, 0, 0, 0, 0, 1, 1,\n",
              "       1, 1, 1, 0, 1, 1, 1, 1, 1, 0, 1, 1, 1, 1, 1, 0, 1, 0, 1, 0, 1, 1,\n",
              "       1, 1, 0, 1, 0, 1, 1, 1, 0, 1, 1, 1, 0, 0, 1, 1, 1, 1, 1, 1, 1, 1,\n",
              "       1, 1, 0, 1, 1, 0, 1, 1, 0, 1, 1, 1, 1, 0, 1, 1, 1, 1, 1, 1, 1, 1,\n",
              "       1, 1, 1, 0, 0, 0, 1, 0, 1, 1, 1, 1, 1, 1, 1, 1, 1, 1, 1, 0, 1, 0,\n",
              "       1, 1, 1, 0, 1, 1, 0, 1, 1, 1, 0, 0, 1, 1, 0, 1, 0, 1, 0, 0, 0, 1,\n",
              "       0, 1])"
            ]
          },
          "execution_count": 127,
          "metadata": {},
          "output_type": "execute_result"
        }
      ],
      "source": [
        "#Predict test set results\n",
        "y_pred = knn.predict(X_test)\n",
        "\n",
        "y_pred"
      ]
    },
    {
      "cell_type": "markdown",
      "id": "18bf630e-7672-4504-b3f8-12fefe2f2c57",
      "metadata": {
        "id": "18bf630e-7672-4504-b3f8-12fefe2f2c57"
      },
      "source": [
        "#### predict_proba method\n",
        "\n",
        "predict_proba method gives the probabilities for the target variable(0 and 1) in this case, in array form."
      ]
    },
    {
      "cell_type": "code",
      "execution_count": null,
      "id": "101bbea4-68ea-492d-98da-95d84856695f",
      "metadata": {
        "id": "101bbea4-68ea-492d-98da-95d84856695f",
        "outputId": "66297e25-f933-40b5-dbf0-d5e809d26363"
      },
      "outputs": [
        {
          "data": {
            "text/plain": [
              "array([0.66666667, 0.        , 0.        , 0.66666667, 0.33333333,\n",
              "       1.        , 0.        , 1.        , 0.        , 0.33333333,\n",
              "       0.        , 0.        , 0.66666667, 0.        , 0.33333333,\n",
              "       0.        , 0.        , 0.        , 0.        , 0.        ,\n",
              "       0.33333333, 1.        , 0.33333333, 0.33333333, 0.33333333,\n",
              "       0.        , 0.33333333, 1.        , 0.        , 1.        ,\n",
              "       0.33333333, 1.        , 0.        , 0.        , 0.        ,\n",
              "       0.33333333, 0.33333333, 0.        , 1.        , 0.66666667,\n",
              "       0.        , 0.66666667, 1.        , 0.        , 0.33333333,\n",
              "       0.        , 1.        , 0.33333333, 0.        , 0.        ,\n",
              "       0.33333333, 0.        , 0.        , 1.        , 0.33333333,\n",
              "       0.        , 0.        , 0.        , 0.33333333, 1.        ,\n",
              "       0.        , 0.        , 1.        , 0.        , 0.        ,\n",
              "       0.        , 0.        , 0.        , 1.        , 0.33333333,\n",
              "       1.        , 0.        , 0.        , 0.66666667, 0.        ,\n",
              "       0.        , 0.        , 1.        , 0.33333333, 0.        ,\n",
              "       0.33333333, 0.33333333, 0.33333333, 0.        , 0.33333333,\n",
              "       0.        , 0.        , 0.66666667, 0.        , 0.        ,\n",
              "       0.        , 0.        , 0.33333333, 0.66666667, 0.33333333,\n",
              "       0.        , 0.66666667, 0.        , 0.        , 0.        ,\n",
              "       1.        , 0.66666667, 0.        , 0.66666667, 0.        ,\n",
              "       0.        , 0.        , 0.        , 0.        , 0.33333333,\n",
              "       0.33333333, 1.        , 0.        , 0.33333333, 0.        ,\n",
              "       0.        , 0.        , 0.        , 0.33333333, 0.        ,\n",
              "       0.33333333, 0.66666667, 1.        , 0.        , 1.        ,\n",
              "       1.        , 0.        , 0.33333333, 1.        , 0.        ,\n",
              "       0.        , 0.        , 0.        , 0.        , 0.        ,\n",
              "       1.        , 0.33333333, 0.        , 0.        , 0.        ,\n",
              "       0.        , 0.        , 1.        , 0.        , 1.        ,\n",
              "       0.        , 0.        , 0.        , 1.        , 1.        ,\n",
              "       1.        , 0.33333333, 0.        , 0.        , 0.66666667,\n",
              "       0.33333333, 0.33333333, 1.        , 0.        , 0.33333333,\n",
              "       0.33333333, 0.        , 0.33333333, 1.        , 0.        ,\n",
              "       0.        , 1.        , 0.33333333, 0.        , 0.        ,\n",
              "       0.66666667, 0.66666667, 0.66666667, 0.66666667, 0.        ,\n",
              "       0.        , 0.33333333, 0.        , 0.33333333, 0.66666667,\n",
              "       0.33333333, 0.33333333, 0.        , 0.        , 0.33333333,\n",
              "       1.        , 0.        , 0.        , 0.        , 0.        ,\n",
              "       0.33333333, 1.        , 0.        , 1.        , 0.        ,\n",
              "       1.        , 0.33333333, 0.        , 0.        , 0.        ,\n",
              "       1.        , 0.        , 0.66666667, 0.        , 0.        ,\n",
              "       0.        , 0.66666667, 0.        , 0.33333333, 0.        ,\n",
              "       1.        , 1.        , 0.        , 0.        , 0.33333333,\n",
              "       0.        , 0.        , 0.        , 0.        , 0.33333333,\n",
              "       0.33333333, 0.        , 1.        , 0.        , 0.        ,\n",
              "       1.        , 0.        , 0.        , 1.        , 0.        ,\n",
              "       0.        , 0.        , 0.        , 1.        , 0.33333333,\n",
              "       0.        , 0.33333333, 0.33333333, 0.        , 0.        ,\n",
              "       0.        , 0.        , 0.        , 0.        , 0.        ,\n",
              "       0.66666667, 1.        , 1.        , 0.        , 1.        ,\n",
              "       0.33333333, 0.        , 0.        , 0.33333333, 0.33333333,\n",
              "       0.        , 0.        , 0.        , 0.        , 0.        ,\n",
              "       0.        , 1.        , 0.        , 0.66666667, 0.        ,\n",
              "       0.        , 0.        , 1.        , 0.        , 0.        ,\n",
              "       0.66666667, 0.        , 0.33333333, 0.        , 0.66666667,\n",
              "       1.        , 0.33333333, 0.        , 1.        , 0.        ,\n",
              "       1.        , 0.        , 1.        , 1.        , 1.        ,\n",
              "       0.        , 0.66666667, 0.        ])"
            ]
          },
          "execution_count": 128,
          "metadata": {},
          "output_type": "execute_result"
        }
      ],
      "source": [
        "# probability of getting output as 0 - does not need replacement\n",
        "\n",
        "knn.predict_proba(X_test)[:,0]"
      ]
    },
    {
      "cell_type": "code",
      "execution_count": null,
      "id": "31bb34b4-6080-4a98-897b-1c9565a49ab2",
      "metadata": {
        "id": "31bb34b4-6080-4a98-897b-1c9565a49ab2",
        "outputId": "1b1b04de-8807-4e47-a56b-6f225af21f2c"
      },
      "outputs": [
        {
          "data": {
            "text/plain": [
              "array([0.33333333, 1.        , 1.        , 0.33333333, 0.66666667,\n",
              "       0.        , 1.        , 0.        , 1.        , 0.66666667,\n",
              "       1.        , 1.        , 0.33333333, 1.        , 0.66666667,\n",
              "       1.        , 1.        , 1.        , 1.        , 1.        ,\n",
              "       0.66666667, 0.        , 0.66666667, 0.66666667, 0.66666667,\n",
              "       1.        , 0.66666667, 0.        , 1.        , 0.        ,\n",
              "       0.66666667, 0.        , 1.        , 1.        , 1.        ,\n",
              "       0.66666667, 0.66666667, 1.        , 0.        , 0.33333333,\n",
              "       1.        , 0.33333333, 0.        , 1.        , 0.66666667,\n",
              "       1.        , 0.        , 0.66666667, 1.        , 1.        ,\n",
              "       0.66666667, 1.        , 1.        , 0.        , 0.66666667,\n",
              "       1.        , 1.        , 1.        , 0.66666667, 0.        ,\n",
              "       1.        , 1.        , 0.        , 1.        , 1.        ,\n",
              "       1.        , 1.        , 1.        , 0.        , 0.66666667,\n",
              "       0.        , 1.        , 1.        , 0.33333333, 1.        ,\n",
              "       1.        , 1.        , 0.        , 0.66666667, 1.        ,\n",
              "       0.66666667, 0.66666667, 0.66666667, 1.        , 0.66666667,\n",
              "       1.        , 1.        , 0.33333333, 1.        , 1.        ,\n",
              "       1.        , 1.        , 0.66666667, 0.33333333, 0.66666667,\n",
              "       1.        , 0.33333333, 1.        , 1.        , 1.        ,\n",
              "       0.        , 0.33333333, 1.        , 0.33333333, 1.        ,\n",
              "       1.        , 1.        , 1.        , 1.        , 0.66666667,\n",
              "       0.66666667, 0.        , 1.        , 0.66666667, 1.        ,\n",
              "       1.        , 1.        , 1.        , 0.66666667, 1.        ,\n",
              "       0.66666667, 0.33333333, 0.        , 1.        , 0.        ,\n",
              "       0.        , 1.        , 0.66666667, 0.        , 1.        ,\n",
              "       1.        , 1.        , 1.        , 1.        , 1.        ,\n",
              "       0.        , 0.66666667, 1.        , 1.        , 1.        ,\n",
              "       1.        , 1.        , 0.        , 1.        , 0.        ,\n",
              "       1.        , 1.        , 1.        , 0.        , 0.        ,\n",
              "       0.        , 0.66666667, 1.        , 1.        , 0.33333333,\n",
              "       0.66666667, 0.66666667, 0.        , 1.        , 0.66666667,\n",
              "       0.66666667, 1.        , 0.66666667, 0.        , 1.        ,\n",
              "       1.        , 0.        , 0.66666667, 1.        , 1.        ,\n",
              "       0.33333333, 0.33333333, 0.33333333, 0.33333333, 1.        ,\n",
              "       1.        , 0.66666667, 1.        , 0.66666667, 0.33333333,\n",
              "       0.66666667, 0.66666667, 1.        , 1.        , 0.66666667,\n",
              "       0.        , 1.        , 1.        , 1.        , 1.        ,\n",
              "       0.66666667, 0.        , 1.        , 0.        , 1.        ,\n",
              "       0.        , 0.66666667, 1.        , 1.        , 1.        ,\n",
              "       0.        , 1.        , 0.33333333, 1.        , 1.        ,\n",
              "       1.        , 0.33333333, 1.        , 0.66666667, 1.        ,\n",
              "       0.        , 0.        , 1.        , 1.        , 0.66666667,\n",
              "       1.        , 1.        , 1.        , 1.        , 0.66666667,\n",
              "       0.66666667, 1.        , 0.        , 1.        , 1.        ,\n",
              "       0.        , 1.        , 1.        , 0.        , 1.        ,\n",
              "       1.        , 1.        , 1.        , 0.        , 0.66666667,\n",
              "       1.        , 0.66666667, 0.66666667, 1.        , 1.        ,\n",
              "       1.        , 1.        , 1.        , 1.        , 1.        ,\n",
              "       0.33333333, 0.        , 0.        , 1.        , 0.        ,\n",
              "       0.66666667, 1.        , 1.        , 0.66666667, 0.66666667,\n",
              "       1.        , 1.        , 1.        , 1.        , 1.        ,\n",
              "       1.        , 0.        , 1.        , 0.33333333, 1.        ,\n",
              "       1.        , 1.        , 0.        , 1.        , 1.        ,\n",
              "       0.33333333, 1.        , 0.66666667, 1.        , 0.33333333,\n",
              "       0.        , 0.66666667, 1.        , 0.        , 1.        ,\n",
              "       0.        , 1.        , 0.        , 0.        , 0.        ,\n",
              "       1.        , 0.33333333, 1.        ])"
            ]
          },
          "execution_count": 129,
          "metadata": {},
          "output_type": "execute_result"
        }
      ],
      "source": [
        "# probability of getting output as 1 -  need replacement\n",
        "\n",
        "knn.predict_proba(X_test)[:,1]"
      ]
    },
    {
      "cell_type": "markdown",
      "id": "9a1b4b83-0b8a-4b63-890c-b9df5235a08a",
      "metadata": {
        "id": "9a1b4b83-0b8a-4b63-890c-b9df5235a08a"
      },
      "source": [
        "# 6. Check Performance"
      ]
    },
    {
      "cell_type": "code",
      "execution_count": null,
      "id": "87540129-ff6d-4bd5-845d-d020d1495085",
      "metadata": {
        "id": "87540129-ff6d-4bd5-845d-d020d1495085",
        "outputId": "28942c4f-8888-4425-fd47-c89e1ff93211"
      },
      "outputs": [
        {
          "name": "stdout",
          "output_type": "stream",
          "text": [
            "Model accuracy score: 0.8194\n"
          ]
        }
      ],
      "source": [
        "from sklearn.metrics import accuracy_score\n",
        "\n",
        "print('Model accuracy score: {0:0.4f}'. format(accuracy_score(y_test, y_pred)))"
      ]
    },
    {
      "cell_type": "markdown",
      "id": "1c0f38ec-2239-43a0-b7bb-7297a7db2903",
      "metadata": {
        "id": "1c0f38ec-2239-43a0-b7bb-7297a7db2903"
      },
      "source": [
        "### Compare the train-set and test-set accuracy\n",
        "\n",
        "Now, we will compare the train-set and test-set accuracy to check for overfitting."
      ]
    },
    {
      "cell_type": "code",
      "execution_count": null,
      "id": "e735f262-e4e8-4d12-bfc8-54a931a0c458",
      "metadata": {
        "id": "e735f262-e4e8-4d12-bfc8-54a931a0c458"
      },
      "outputs": [],
      "source": [
        "y_pred_train = knn.predict(X_train)"
      ]
    },
    {
      "cell_type": "code",
      "execution_count": null,
      "id": "b8eb04fa-19e1-4947-87a3-03f70eeb3de8",
      "metadata": {
        "id": "b8eb04fa-19e1-4947-87a3-03f70eeb3de8",
        "outputId": "3124fdcd-f907-45fb-811a-20f5da2f466a"
      },
      "outputs": [
        {
          "name": "stdout",
          "output_type": "stream",
          "text": [
            "Training-set accuracy score: 0.8854\n"
          ]
        }
      ],
      "source": [
        "print('Training-set accuracy score: {0:0.4f}'. format(accuracy_score(y_train, y_pred_train)))"
      ]
    },
    {
      "cell_type": "markdown",
      "id": "0721c795-2c62-4ce6-8c73-053d76a17331",
      "metadata": {
        "id": "0721c795-2c62-4ce6-8c73-053d76a17331"
      },
      "source": [
        "### Check for overfitting and underfitting"
      ]
    },
    {
      "cell_type": "code",
      "execution_count": null,
      "id": "de29c4d4-7177-44b2-83f1-8b06c5ab12db",
      "metadata": {
        "id": "de29c4d4-7177-44b2-83f1-8b06c5ab12db",
        "outputId": "d19599a1-2a0d-4bb6-89ac-3f30301c2c75"
      },
      "outputs": [
        {
          "name": "stdout",
          "output_type": "stream",
          "text": [
            "Training set score: 0.8854\n",
            "Test set score: 0.8194\n"
          ]
        }
      ],
      "source": [
        "# print the scores on training and test set\n",
        "\n",
        "print('Training set score: {:.4f}'.format(knn.score(X_train, y_train)))\n",
        "\n",
        "print('Test set score: {:.4f}'.format(knn.score(X_test, y_test)))"
      ]
    },
    {
      "cell_type": "markdown",
      "id": "43161ec5-6bd2-409a-9c0f-29942611922a",
      "metadata": {
        "id": "43161ec5-6bd2-409a-9c0f-29942611922a"
      },
      "source": [
        "The training-set accuracy score is 0.8854 while the test-set accuracy to be 0.8194. These two values are quite comparable. So, there is no case of overfitting."
      ]
    },
    {
      "cell_type": "markdown",
      "id": "f0b92825-6b1a-4496-b728-bb915336ad64",
      "metadata": {
        "id": "f0b92825-6b1a-4496-b728-bb915336ad64"
      },
      "source": [
        "### Compare model accuracy with null accuracy\n",
        "\n",
        "So, the model accuracy is 0.8194. But, we cannot say that our model is very good based on the above accuracy. We must compare it with the null accuracy. Null accuracy is the accuracy that could be achieved by always predicting the most frequent class.\n",
        "\n",
        "So, we should first check the class distribution in the test set."
      ]
    },
    {
      "cell_type": "code",
      "execution_count": null,
      "id": "848a32da-b943-435e-83fe-1be592d375e9",
      "metadata": {
        "id": "848a32da-b943-435e-83fe-1be592d375e9",
        "outputId": "5ff47e75-1346-4da1-c4c2-67dd7a3ac7cc"
      },
      "outputs": [
        {
          "data": {
            "text/plain": [
              "1    187\n",
              "0    101\n",
              "Name: Class, dtype: int64"
            ]
          },
          "execution_count": 135,
          "metadata": {},
          "output_type": "execute_result"
        }
      ],
      "source": [
        "# check class distribution in test set\n",
        "\n",
        "y_test.value_counts()"
      ]
    },
    {
      "cell_type": "markdown",
      "id": "a5916c33-bfd2-4c34-a7ac-b338b6580fcb",
      "metadata": {
        "id": "a5916c33-bfd2-4c34-a7ac-b338b6580fcb"
      },
      "source": [
        "We can see that the occurences of most frequent class is 187. So, we can calculate null accuracy by dividing 187 by total number of occurences."
      ]
    },
    {
      "cell_type": "code",
      "execution_count": null,
      "id": "eab0bda0-90c8-4bfc-baa4-99f815a6ad60",
      "metadata": {
        "id": "eab0bda0-90c8-4bfc-baa4-99f815a6ad60",
        "outputId": "0b3b5521-e722-47d5-829b-5e9b56b57ad6"
      },
      "outputs": [
        {
          "name": "stdout",
          "output_type": "stream",
          "text": [
            "Null accuracy score: 0.6493\n"
          ]
        }
      ],
      "source": [
        "# check null accuracy score\n",
        "\n",
        "null_accuracy = (187/(187+101))\n",
        "\n",
        "print('Null accuracy score: {0:0.4f}'. format(null_accuracy))"
      ]
    },
    {
      "cell_type": "markdown",
      "id": "6215a959-e9fe-4e3b-9b06-29d0d3495931",
      "metadata": {
        "id": "6215a959-e9fe-4e3b-9b06-29d0d3495931"
      },
      "source": [
        "We can see that our model accuracy score is 0.8194 but null accuracy score is 0.6493. So, we can conclude that our K Nearest Neighbors model is doing a very good job in predicting the class labels."
      ]
    },
    {
      "cell_type": "markdown",
      "id": "f16c126d-8c4f-4a2a-94f6-5b3646e2940e",
      "metadata": {
        "id": "f16c126d-8c4f-4a2a-94f6-5b3646e2940e"
      },
      "source": [
        " # 7. Rebuild kNN Classification model using different values of k \n",
        " ### Rebuild kNN Classification model using k=5"
      ]
    },
    {
      "cell_type": "code",
      "execution_count": null,
      "id": "bc6f1ffa-fe44-4f63-bb6e-1d553491025f",
      "metadata": {
        "id": "bc6f1ffa-fe44-4f63-bb6e-1d553491025f",
        "outputId": "b0bebf6c-a64d-47ee-92b1-8efe03f8b05a"
      },
      "outputs": [
        {
          "name": "stdout",
          "output_type": "stream",
          "text": [
            "Model accuracy score with k=5 : 0.8160\n"
          ]
        }
      ],
      "source": [
        "# instantiate the model with k=5\n",
        "knn_5 = KNeighborsClassifier(n_neighbors=5)\n",
        "\n",
        "\n",
        "# fit the model to the training set\n",
        "knn_5.fit(X_train, y_train)\n",
        "\n",
        "\n",
        "# predict on the test-set\n",
        "y_pred_5 = knn_5.predict(X_test)\n",
        "\n",
        "\n",
        "print('Model accuracy score with k=5 : {0:0.4f}'. format(accuracy_score(y_test, y_pred_5)))"
      ]
    },
    {
      "cell_type": "markdown",
      "id": "555c6423-920b-41fb-b45f-fcce545ef9d5",
      "metadata": {
        "id": "555c6423-920b-41fb-b45f-fcce545ef9d5"
      },
      "source": [
        "### Rebuild kNN Classification model using k=6"
      ]
    },
    {
      "cell_type": "code",
      "execution_count": null,
      "id": "a2595700-1031-433f-bed2-a5973f1eea29",
      "metadata": {
        "id": "a2595700-1031-433f-bed2-a5973f1eea29",
        "outputId": "c75c705b-5944-4907-a328-b24c0b57b370"
      },
      "outputs": [
        {
          "name": "stdout",
          "output_type": "stream",
          "text": [
            "Model accuracy score with k=6 : 0.8160\n"
          ]
        }
      ],
      "source": [
        "# instantiate the model with k=6\n",
        "knn_6 = KNeighborsClassifier(n_neighbors=6)\n",
        "\n",
        "\n",
        "# fit the model to the training set\n",
        "knn_6.fit(X_train, y_train)\n",
        "\n",
        "\n",
        "# predict on the test-set\n",
        "y_pred_6 = knn_6.predict(X_test)\n",
        "\n",
        "\n",
        "print('Model accuracy score with k=6 : {0:0.4f}'. format(accuracy_score(y_test, y_pred_6)))"
      ]
    },
    {
      "cell_type": "markdown",
      "id": "f82466d4-e473-4eb2-a534-5a4f652dbc93",
      "metadata": {
        "id": "f82466d4-e473-4eb2-a534-5a4f652dbc93"
      },
      "source": [
        "### Rebuild kNN Classification model using k=7"
      ]
    },
    {
      "cell_type": "code",
      "execution_count": null,
      "id": "bde2c833-1452-4e62-bd3a-d55af9cd1528",
      "metadata": {
        "id": "bde2c833-1452-4e62-bd3a-d55af9cd1528",
        "outputId": "5cae9899-5f69-4f42-a427-efcfad5ecc02"
      },
      "outputs": [
        {
          "name": "stdout",
          "output_type": "stream",
          "text": [
            "Model accuracy score with k=7 : 0.8229\n"
          ]
        }
      ],
      "source": [
        "# instantiate the model with k=7\n",
        "knn_7 = KNeighborsClassifier(n_neighbors=7)\n",
        "\n",
        "\n",
        "# fit the model to the training set\n",
        "knn_7.fit(X_train, y_train)\n",
        "\n",
        "\n",
        "# predict on the test-set\n",
        "y_pred_7 = knn_7.predict(X_test)\n",
        "\n",
        "\n",
        "print('Model accuracy score with k=7 : {0:0.4f}'. format(accuracy_score(y_test, y_pred_7)))"
      ]
    },
    {
      "cell_type": "markdown",
      "id": "cc416d7d-1541-44e3-8ca4-40904bb8f8b3",
      "metadata": {
        "id": "cc416d7d-1541-44e3-8ca4-40904bb8f8b3"
      },
      "source": [
        "### Rebuild kNN Classification model using k=8"
      ]
    },
    {
      "cell_type": "code",
      "execution_count": null,
      "id": "d7a7f1cb-7d70-4d6d-a7aa-f4e8f66530aa",
      "metadata": {
        "id": "d7a7f1cb-7d70-4d6d-a7aa-f4e8f66530aa",
        "outputId": "89fbf9e5-8045-4cbf-821d-578b8f0b3cc0"
      },
      "outputs": [
        {
          "name": "stdout",
          "output_type": "stream",
          "text": [
            "Model accuracy score with k=8 : 0.8229\n"
          ]
        }
      ],
      "source": [
        "# instantiate the model with k=8\n",
        "knn_8 = KNeighborsClassifier(n_neighbors=8)\n",
        "\n",
        "\n",
        "# fit the model to the training set\n",
        "knn_8.fit(X_train, y_train)\n",
        "\n",
        "\n",
        "# predict on the test-set\n",
        "y_pred_8 = knn_8.predict(X_test)\n",
        "\n",
        "\n",
        "print('Model accuracy score with k=8 : {0:0.4f}'. format(accuracy_score(y_test, y_pred_8)))"
      ]
    },
    {
      "cell_type": "markdown",
      "id": "f340c5ec-c078-450e-b7c0-076804cc19dc",
      "metadata": {
        "id": "f340c5ec-c078-450e-b7c0-076804cc19dc"
      },
      "source": [
        "### Rebuild kNN Classification model using k=10"
      ]
    },
    {
      "cell_type": "code",
      "execution_count": null,
      "id": "72fbbeac-9ab6-45b3-b373-857d391b782c",
      "metadata": {
        "id": "72fbbeac-9ab6-45b3-b373-857d391b782c",
        "outputId": "fd82fd1a-30ba-4488-84d9-1d833214f73e"
      },
      "outputs": [
        {
          "name": "stdout",
          "output_type": "stream",
          "text": [
            "Model accuracy score with k=10 : 0.8264\n"
          ]
        }
      ],
      "source": [
        "# instantiate the model with k=10\n",
        "knn_10 = KNeighborsClassifier(n_neighbors=10)\n",
        "\n",
        "\n",
        "# fit the model to the training set\n",
        "knn_10.fit(X_train, y_train)\n",
        "\n",
        "\n",
        "# predict on the test-set\n",
        "y_pred_10 = knn_10.predict(X_test)\n",
        "\n",
        "\n",
        "print('Model accuracy score with k=10 : {0:0.4f}'. format(accuracy_score(y_test, y_pred_10)))"
      ]
    },
    {
      "cell_type": "markdown",
      "id": "f14ec315-518c-4722-b9eb-d6ade9b771d3",
      "metadata": {
        "id": "f14ec315-518c-4722-b9eb-d6ade9b771d3"
      },
      "source": [
        "### Rebuild kNN Classification model using k=12"
      ]
    },
    {
      "cell_type": "code",
      "execution_count": null,
      "id": "a052dc00-7866-4000-915d-c6a938108e33",
      "metadata": {
        "id": "a052dc00-7866-4000-915d-c6a938108e33",
        "outputId": "e21b76f2-9731-4317-f418-4ecdfb649773"
      },
      "outputs": [
        {
          "name": "stdout",
          "output_type": "stream",
          "text": [
            "Model accuracy score with k=12 : 0.8194\n"
          ]
        }
      ],
      "source": [
        "# instantiate the model with k=12\n",
        "knn_12 = KNeighborsClassifier(n_neighbors=12)\n",
        "\n",
        "\n",
        "# fit the model to the training set\n",
        "knn_12.fit(X_train, y_train)\n",
        "\n",
        "\n",
        "# predict on the test-set\n",
        "y_pred_12 = knn_11.predict(X_test)\n",
        "\n",
        "\n",
        "print('Model accuracy score with k=12 : {0:0.4f}'. format(accuracy_score(y_test, y_pred_12)))"
      ]
    },
    {
      "cell_type": "markdown",
      "id": "3cd8753d-d656-4d82-9922-8107db9b72e5",
      "metadata": {
        "id": "3cd8753d-d656-4d82-9922-8107db9b72e5"
      },
      "source": [
        "#### Interpretation\n",
        "\n",
        "- Our original model accuracy score with k=3 is 0.8194. Now, we can see that we get decreased accuracy score of 0.8164 with k=5 and k=6. But, if we increase the value of k further, this would result in enhanced accuracy.\n",
        "\n",
        "- With k=7 and k=8 we get accuracy score of 0.8229. Later for k= 10,we get accuracy score of 0.8264. So, it results in performance improvement.\n",
        "\n",
        "- If we increase k to 12, then accuracy decreases again to 0.8194.\n",
        "\n",
        "- Now, based on the above analysis we can conclude that our classification model accuracy is very good. Our model is doing a very good job in terms of predicting the class labels."
      ]
    },
    {
      "cell_type": "markdown",
      "id": "242dee73-de12-43be-a26f-92697cc9654b",
      "metadata": {
        "id": "242dee73-de12-43be-a26f-92697cc9654b"
      },
      "source": [
        "# 8. Confusion matrix "
      ]
    },
    {
      "cell_type": "markdown",
      "id": "e45d998e-9c0a-4d19-b27b-a09cf1182c6b",
      "metadata": {
        "id": "e45d998e-9c0a-4d19-b27b-a09cf1182c6b"
      },
      "source": [
        "A confusion matrix is a tool for summarizing the performance of a classification algorithm. A confusion matrix will give us a clear picture of classification model performance and the types of errors produced by the model. It gives us a summary of correct and incorrect predictions broken down by each category. The summary is represented in a tabular form.\n",
        "\n",
        "Four types of outcomes are possible while evaluating a classification model performance. These four outcomes are described below:-\n",
        "\n",
        "- True Positives (TP) – True Positives occur when we predict an observation belongs to a certain class and the observation actually belongs to that class.\n",
        "\n",
        "- True Negatives (TN) – True Negatives occur when we predict an observation does not belong to a certain class and the observation actually does not belong to that class.\n",
        "\n",
        "- False Positives (FP) – False Positives occur when we predict an observation belongs to a certain class but the observation actually does not belong to that class. This type of error is called Type I error.\n",
        "\n",
        "- False Negatives (FN) – False Negatives occur when we predict an observation does not belong to a certain class but the observation actually belongs to that class. This is a very serious error and it is called Type II error.\n",
        "\n",
        "These four outcomes are summarized in a confusion matrix given below."
      ]
    },
    {
      "cell_type": "code",
      "execution_count": null,
      "id": "f0aec706-31d5-4b25-8113-8fd2b1672bce",
      "metadata": {
        "id": "f0aec706-31d5-4b25-8113-8fd2b1672bce",
        "outputId": "ef02be02-f048-4e30-9774-6e131e7503d2"
      },
      "outputs": [
        {
          "name": "stdout",
          "output_type": "stream",
          "text": [
            "Confusion matrix\n",
            "\n",
            " [[ 62  39]\n",
            " [ 11 176]]\n",
            "\n",
            "True Positives(TP) =  62\n",
            "\n",
            "True Negatives(TN) =  176\n",
            "\n",
            "False Positives(FP) =  39\n",
            "\n",
            "False Negatives(FN) =  11\n"
          ]
        }
      ],
      "source": [
        "# Print the Confusion Matrix with k =3 and slice it into four pieces\n",
        "\n",
        "from sklearn.metrics import confusion_matrix\n",
        "\n",
        "cm = confusion_matrix(y_test, y_pred_10)\n",
        "\n",
        "print('Confusion matrix\\n\\n', cm)\n",
        "\n",
        "print('\\nTrue Positives(TP) = ', cm[0,0])\n",
        "\n",
        "print('\\nTrue Negatives(TN) = ', cm[1,1])\n",
        "\n",
        "print('\\nFalse Positives(FP) = ', cm[0,1])\n",
        "\n",
        "print('\\nFalse Negatives(FN) = ', cm[1,0])"
      ]
    },
    {
      "cell_type": "markdown",
      "id": "9329fc8b-5f2f-45b1-9a55-8b3ee419381e",
      "metadata": {
        "id": "9329fc8b-5f2f-45b1-9a55-8b3ee419381e"
      },
      "source": [
        "The confusion matrix shows 62 + 176 = 238 correct predictions and 38 + 14 = 50 incorrect predictions."
      ]
    },
    {
      "cell_type": "code",
      "execution_count": null,
      "id": "4112c6b4-4ae4-4700-85e6-1c27e200f45f",
      "metadata": {
        "id": "4112c6b4-4ae4-4700-85e6-1c27e200f45f",
        "outputId": "50f1384a-f5cc-41f3-ae74-06b7ab55ee9b"
      },
      "outputs": [
        {
          "data": {
            "text/plain": [
              "<AxesSubplot:>"
            ]
          },
          "execution_count": 173,
          "metadata": {},
          "output_type": "execute_result"
        },
        {
          "data": {
            "image/png": "[encoded data removed]",
            "text/plain": [
              "<Figure size 432x288 with 2 Axes>"
            ]
          },
          "metadata": {
            "needs_background": "light"
          },
          "output_type": "display_data"
        }
      ],
      "source": [
        "# visualize confusion matrix with seaborn heatmap\n",
        "\n",
        "plt.figure(figsize=(6,4))\n",
        "\n",
        "cm_matrix = pd.DataFrame(data=cm, columns=['Actual Positive:1', 'Actual Negative:0'], \n",
        "                                 index=['Predict Positive:1', 'Predict Negative:0'])\n",
        "\n",
        "sns.heatmap(cm_matrix, annot=True, fmt='d', cmap='YlGnBu')"
      ]
    },
    {
      "cell_type": "markdown",
      "id": "5d9d9668-39ef-44fd-8dfc-969644443b46",
      "metadata": {
        "id": "5d9d9668-39ef-44fd-8dfc-969644443b46"
      },
      "source": [
        "# 9. Classification metrices\n",
        "## Classification Report\n",
        "\n",
        "Classification report is another way to evaluate the classification model performance. It displays the precision, recall, f1 and support scores for the model.\n",
        "\n",
        "We can print a classification report as follows:-"
      ]
    },
    {
      "cell_type": "code",
      "execution_count": null,
      "id": "d62e64e5-65e8-4c98-9b14-46f0ea2f9f10",
      "metadata": {
        "id": "d62e64e5-65e8-4c98-9b14-46f0ea2f9f10",
        "outputId": "e13edabd-fab3-4db1-e221-af90aeddbbe2"
      },
      "outputs": [
        {
          "name": "stdout",
          "output_type": "stream",
          "text": [
            "              precision    recall  f1-score   support\n",
            "\n",
            "           0       0.85      0.61      0.71       101\n",
            "           1       0.82      0.94      0.88       187\n",
            "\n",
            "    accuracy                           0.83       288\n",
            "   macro avg       0.83      0.78      0.79       288\n",
            "weighted avg       0.83      0.83      0.82       288\n",
            "\n"
          ]
        }
      ],
      "source": [
        "from sklearn.metrics import classification_report\n",
        "\n",
        "print(classification_report(y_test, y_pred_10))"
      ]
    },
    {
      "cell_type": "markdown",
      "id": "afd1f1f8-a634-45ff-b5af-fc951aeb41e4",
      "metadata": {
        "id": "afd1f1f8-a634-45ff-b5af-fc951aeb41e4"
      },
      "source": [
        "### Classification Accuracy"
      ]
    },
    {
      "cell_type": "code",
      "execution_count": null,
      "id": "1a02645d-34a4-413c-b187-ef41e6e54458",
      "metadata": {
        "id": "1a02645d-34a4-413c-b187-ef41e6e54458"
      },
      "outputs": [],
      "source": [
        "TP = cm[0,0]\n",
        "TN = cm[1,1]\n",
        "FP = cm[0,1]\n",
        "FN = cm[1,0]"
      ]
    },
    {
      "cell_type": "code",
      "execution_count": null,
      "id": "15791cd8-b88d-4a10-93d9-05e994d17624",
      "metadata": {
        "id": "15791cd8-b88d-4a10-93d9-05e994d17624",
        "outputId": "4cd9349e-a7f3-4bd9-e834-758d100f8dc5"
      },
      "outputs": [
        {
          "name": "stdout",
          "output_type": "stream",
          "text": [
            "Classification accuracy : 0.8264\n"
          ]
        }
      ],
      "source": [
        "# print classification accuracy\n",
        "\n",
        "classification_accuracy = (TP + TN) / float(TP + TN + FP + FN)\n",
        "\n",
        "print('Classification accuracy : {0:0.4f}'.format(classification_accuracy))"
      ]
    },
    {
      "cell_type": "markdown",
      "id": "1895b3f3-8b68-49f5-b752-b68665b20e77",
      "metadata": {
        "id": "1895b3f3-8b68-49f5-b752-b68665b20e77"
      },
      "source": [
        "### Classification Error"
      ]
    },
    {
      "cell_type": "code",
      "execution_count": null,
      "id": "92e9ff27-07dc-4d52-ba02-4f6f62c2b9a9",
      "metadata": {
        "id": "92e9ff27-07dc-4d52-ba02-4f6f62c2b9a9",
        "outputId": "a7fc14e3-0c66-47ce-fa90-b8449f50c927"
      },
      "outputs": [
        {
          "name": "stdout",
          "output_type": "stream",
          "text": [
            "Classification error : 0.1736\n"
          ]
        }
      ],
      "source": [
        "# print classification error\n",
        "\n",
        "classification_error = (FP + FN) / float(TP + TN + FP + FN)\n",
        "\n",
        "print('Classification error : {0:0.4f}'.format(classification_error))"
      ]
    },
    {
      "cell_type": "markdown",
      "id": "28961ef7-735f-4fdd-9595-6dfcf155b72c",
      "metadata": {
        "id": "28961ef7-735f-4fdd-9595-6dfcf155b72c"
      },
      "source": [
        "### Precision\n",
        "\n",
        "Precision can be defined as the percentage of correctly predicted positive outcomes out of all the predicted positive outcomes. It can be given as the ratio of true positives (TP) to the sum of true and false positives (TP + FP).\n",
        "\n",
        "So, Precision identifies the proportion of correctly predicted positive outcome. It is more concerned with the positive class than the negative class.\n",
        "\n",
        "Mathematically, precision can be defined as the ratio of TP to (TP + FP)."
      ]
    },
    {
      "cell_type": "code",
      "execution_count": null,
      "id": "27c5a7fc-ab16-4455-b555-e88efa952e3c",
      "metadata": {
        "id": "27c5a7fc-ab16-4455-b555-e88efa952e3c",
        "outputId": "f8f679f9-3396-406c-bd12-cbedce90ac4c"
      },
      "outputs": [
        {
          "name": "stdout",
          "output_type": "stream",
          "text": [
            "Precision : 0.6139\n"
          ]
        }
      ],
      "source": [
        "# print precision score\n",
        "\n",
        "precision = TP / float(TP + FP)\n",
        "\n",
        "\n",
        "print('Precision : {0:0.4f}'.format(precision))"
      ]
    },
    {
      "cell_type": "markdown",
      "id": "aacca92d-9c88-4788-ad23-eb36425b57c3",
      "metadata": {
        "id": "aacca92d-9c88-4788-ad23-eb36425b57c3"
      },
      "source": [
        "### Recall\n",
        "\n",
        "Recall can be defined as the percentage of correctly predicted positive outcomes out of all the actual positive outcomes. It can be given as the ratio of true positives (TP) to the sum of true positives and false negatives (TP + FN). Recall is also called Sensitivity.\n",
        "\n",
        "Recall identifies the proportion of correctly predicted actual positives.\n",
        "\n",
        "Mathematically, recall can be given as the ratio of TP to (TP + FN)."
      ]
    },
    {
      "cell_type": "code",
      "execution_count": null,
      "id": "5373edc7-dcec-454c-84e8-e33b554049ca",
      "metadata": {
        "id": "5373edc7-dcec-454c-84e8-e33b554049ca",
        "outputId": "1ff09918-9d33-414d-c2ed-a8339d42b260"
      },
      "outputs": [
        {
          "name": "stdout",
          "output_type": "stream",
          "text": [
            "Recall or Sensitivity : 0.8493\n"
          ]
        }
      ],
      "source": [
        "recall = TP / float(TP + FN)\n",
        "\n",
        "print('Recall or Sensitivity : {0:0.4f}'.format(recall))"
      ]
    },
    {
      "cell_type": "markdown",
      "id": "e7d00bee-8e5c-45e2-a773-da8b34f11db9",
      "metadata": {
        "id": "e7d00bee-8e5c-45e2-a773-da8b34f11db9"
      },
      "source": [
        "### True Positive Rate\n",
        "\n",
        "True Positive Rate is synonymous with Recall."
      ]
    },
    {
      "cell_type": "code",
      "execution_count": null,
      "id": "6be18ed9-3f67-4e35-82be-264c0993e358",
      "metadata": {
        "id": "6be18ed9-3f67-4e35-82be-264c0993e358",
        "outputId": "52c2bd00-3e64-49e4-ba45-6c0c84dfb1a3"
      },
      "outputs": [
        {
          "name": "stdout",
          "output_type": "stream",
          "text": [
            "True Positive Rate : 0.8493\n"
          ]
        }
      ],
      "source": [
        "true_positive_rate = TP / float(TP + FN)\n",
        "\n",
        "\n",
        "print('True Positive Rate : {0:0.4f}'.format(true_positive_rate))"
      ]
    },
    {
      "cell_type": "markdown",
      "id": "fbba3739-c124-49a4-a86c-6daa7c3b17d0",
      "metadata": {
        "id": "fbba3739-c124-49a4-a86c-6daa7c3b17d0"
      },
      "source": [
        "### False Positive Rate"
      ]
    },
    {
      "cell_type": "code",
      "execution_count": null,
      "id": "c3212e32-5b85-4588-aabc-eec78246f277",
      "metadata": {
        "id": "c3212e32-5b85-4588-aabc-eec78246f277",
        "outputId": "a526a05d-bab0-42b5-ada1-55c5506a27c8"
      },
      "outputs": [
        {
          "name": "stdout",
          "output_type": "stream",
          "text": [
            "False Positive Rate : 0.1814\n"
          ]
        }
      ],
      "source": [
        "false_positive_rate = FP / float(FP + TN)\n",
        "\n",
        "\n",
        "print('False Positive Rate : {0:0.4f}'.format(false_positive_rate))"
      ]
    },
    {
      "cell_type": "markdown",
      "id": "cba5967a-a375-466a-82f1-c5fc4d97eb79",
      "metadata": {
        "id": "cba5967a-a375-466a-82f1-c5fc4d97eb79"
      },
      "source": [
        "### Specificity"
      ]
    },
    {
      "cell_type": "code",
      "execution_count": null,
      "id": "615f6239-ed90-4967-b497-3874d0d11d91",
      "metadata": {
        "id": "615f6239-ed90-4967-b497-3874d0d11d91",
        "outputId": "186b1642-7068-4519-8d8f-eace633cfef1"
      },
      "outputs": [
        {
          "name": "stdout",
          "output_type": "stream",
          "text": [
            "Specificity : 0.8186\n"
          ]
        }
      ],
      "source": [
        "specificity = TN / (TN + FP)\n",
        "\n",
        "print('Specificity : {0:0.4f}'.format(specificity))"
      ]
    },
    {
      "cell_type": "markdown",
      "id": "dc11b252-b17d-41cb-b7e8-bb1f40b8b268",
      "metadata": {
        "id": "dc11b252-b17d-41cb-b7e8-bb1f40b8b268"
      },
      "source": [
        "### f1-score\n",
        "\n",
        "f1-score is the weighted harmonic mean of precision and recall. The best possible f1-score would be 1.0 and the worst would be 0.0. f1-score is the harmonic mean of precision and recall. So, f1-score is always lower than accuracy measures as they embed precision and recall into their computation. The weighted average of f1-score should be used to compare classifier models, not global accuracy.\n",
        "\n",
        "### Support\n",
        "\n",
        "Support is the actual number of occurrences of the class in our dataset."
      ]
    },
    {
      "cell_type": "code",
      "execution_count": null,
      "id": "f4f90e52-46f7-4e65-a853-3f39a7752c9e",
      "metadata": {
        "id": "f4f90e52-46f7-4e65-a853-3f39a7752c9e",
        "outputId": "aa42f005-5f1e-42e0-e62b-e8ab524f99b2"
      },
      "outputs": [
        {
          "data": {
            "text/plain": [
              "array([[0.66666667, 0.33333333],\n",
              "       [0.        , 1.        ],\n",
              "       [0.        , 1.        ],\n",
              "       [0.66666667, 0.33333333],\n",
              "       [0.33333333, 0.66666667],\n",
              "       [1.        , 0.        ],\n",
              "       [0.        , 1.        ],\n",
              "       [1.        , 0.        ],\n",
              "       [0.        , 1.        ],\n",
              "       [0.33333333, 0.66666667]])"
            ]
          },
          "execution_count": 183,
          "metadata": {},
          "output_type": "execute_result"
        }
      ],
      "source": [
        "#Adjusting Classification threshold level\n",
        "# print the first 10 predicted probabilities of two classes- 2 and 4\n",
        "\n",
        "y_pred_prob = knn.predict_proba(X_test)[0:10]\n",
        "\n",
        "y_pred_prob"
      ]
    },
    {
      "cell_type": "markdown",
      "id": "acffdd6d-4b31-4acf-bf7d-aab92798494c",
      "metadata": {
        "id": "acffdd6d-4b31-4acf-bf7d-aab92798494c"
      },
      "source": [
        "### Classification threshold level\n",
        "\n",
        "There is a classification threshold level of 0.5.\n",
        "\n",
        "Class 4 - probability of 'needs replacement' is predicted if probability > 0.5.\n",
        "\n",
        "Class 2 - probability of 'does not needs replacement' is predicted if probability < 0.5."
      ]
    },
    {
      "cell_type": "code",
      "execution_count": null,
      "id": "68e18d5f-92f3-403a-baae-e784a39e3134",
      "metadata": {
        "id": "68e18d5f-92f3-403a-baae-e784a39e3134",
        "outputId": "7cece1fe-29db-44b7-9281-66f376352bb5"
      },
      "outputs": [
        {
          "data": {
            "text/html": [
              "<div>\n",
              "<style scoped>\n",
              "    .dataframe tbody tr th:only-of-type {\n",
              "        vertical-align: middle;\n",
              "    }\n",
              "\n",
              "    .dataframe tbody tr th {\n",
              "        vertical-align: top;\n",
              "    }\n",
              "\n",
              "    .dataframe thead th {\n",
              "        text-align: right;\n",
              "    }\n",
              "</style>\n",
              "<table border=\"1\" class=\"dataframe\">\n",
              "  <thead>\n",
              "    <tr style=\"text-align: right;\">\n",
              "      <th></th>\n",
              "      <th>Prob of - Does not Need Replacement(0)</th>\n",
              "      <th>Prob of -  Need Replacement(1)</th>\n",
              "    </tr>\n",
              "  </thead>\n",
              "  <tbody>\n",
              "    <tr>\n",
              "      <th>0</th>\n",
              "      <td>0.666667</td>\n",
              "      <td>0.333333</td>\n",
              "    </tr>\n",
              "    <tr>\n",
              "      <th>1</th>\n",
              "      <td>0.000000</td>\n",
              "      <td>1.000000</td>\n",
              "    </tr>\n",
              "    <tr>\n",
              "      <th>2</th>\n",
              "      <td>0.000000</td>\n",
              "      <td>1.000000</td>\n",
              "    </tr>\n",
              "    <tr>\n",
              "      <th>3</th>\n",
              "      <td>0.666667</td>\n",
              "      <td>0.333333</td>\n",
              "    </tr>\n",
              "    <tr>\n",
              "      <th>4</th>\n",
              "      <td>0.333333</td>\n",
              "      <td>0.666667</td>\n",
              "    </tr>\n",
              "    <tr>\n",
              "      <th>5</th>\n",
              "      <td>1.000000</td>\n",
              "      <td>0.000000</td>\n",
              "    </tr>\n",
              "    <tr>\n",
              "      <th>6</th>\n",
              "      <td>0.000000</td>\n",
              "      <td>1.000000</td>\n",
              "    </tr>\n",
              "    <tr>\n",
              "      <th>7</th>\n",
              "      <td>1.000000</td>\n",
              "      <td>0.000000</td>\n",
              "    </tr>\n",
              "    <tr>\n",
              "      <th>8</th>\n",
              "      <td>0.000000</td>\n",
              "      <td>1.000000</td>\n",
              "    </tr>\n",
              "    <tr>\n",
              "      <th>9</th>\n",
              "      <td>0.333333</td>\n",
              "      <td>0.666667</td>\n",
              "    </tr>\n",
              "  </tbody>\n",
              "</table>\n",
              "</div>"
            ],
            "text/plain": [
              "   Prob of - Does not Need Replacement(0)  Prob of -  Need Replacement(1)\n",
              "0                                0.666667                        0.333333\n",
              "1                                0.000000                        1.000000\n",
              "2                                0.000000                        1.000000\n",
              "3                                0.666667                        0.333333\n",
              "4                                0.333333                        0.666667\n",
              "5                                1.000000                        0.000000\n",
              "6                                0.000000                        1.000000\n",
              "7                                1.000000                        0.000000\n",
              "8                                0.000000                        1.000000\n",
              "9                                0.333333                        0.666667"
            ]
          },
          "execution_count": 184,
          "metadata": {},
          "output_type": "execute_result"
        }
      ],
      "source": [
        "# store the probabilities in dataframe\n",
        "\n",
        "y_pred_prob_df = pd.DataFrame(data=y_pred_prob, columns=['Prob of - Does not Need Replacement(0)', 'Prob of -  Need Replacement(1)'])\n",
        "\n",
        "y_pred_prob_df"
      ]
    },
    {
      "cell_type": "code",
      "execution_count": null,
      "id": "161a644a-ac08-409c-b1bc-edd19c9b0285",
      "metadata": {
        "id": "161a644a-ac08-409c-b1bc-edd19c9b0285",
        "outputId": "93dadeb0-5cb7-4ca3-f635-14face4971d1"
      },
      "outputs": [
        {
          "data": {
            "text/plain": [
              "Text(0, 0.5, 'Frequency')"
            ]
          },
          "execution_count": 185,
          "metadata": {},
          "output_type": "execute_result"
        },
        {
          "data": {
            "image/png": "[encoded data removed]",
            "text/plain": [
              "<Figure size 432x288 with 1 Axes>"
            ]
          },
          "metadata": {
            "needs_background": "light"
          },
          "output_type": "display_data"
        }
      ],
      "source": [
        "# store the predicted probabilities for class 1\n",
        "y_pred_1 = knn.predict_proba(X_test)[:, 1]\n",
        "# plot histogram of predicted probabilities\n",
        "\n",
        "\n",
        "# adjust figure size\n",
        "plt.figure(figsize=(6,4))\n",
        "\n",
        "\n",
        "# adjust the font size \n",
        "plt.rcParams['font.size'] = 12\n",
        "\n",
        "\n",
        "# plot histogram with 10 bins\n",
        "plt.hist(y_pred_1, bins = 10)\n",
        "\n",
        "\n",
        "# set the title of predicted probabilities\n",
        "plt.title('Histogram of predicted probabilities of Insert Needs Replacement')\n",
        "\n",
        "\n",
        "# set the x-axis limit\n",
        "plt.xlim(0,1)\n",
        "\n",
        "\n",
        "# set the title\n",
        "plt.xlabel('Predicted probabilities of Insert Needs Replacement')\n",
        "plt.ylabel('Frequency')"
      ]
    },
    {
      "cell_type": "markdown",
      "id": "32955f7b-d8a9-4327-a5fc-cc34bbbbbd40",
      "metadata": {
        "id": "32955f7b-d8a9-4327-a5fc-cc34bbbbbd40"
      },
      "source": [
        "# 10. k-fold Cross Validation\n",
        "\n",
        "In this section, we will apply k-fold Cross Validation technique to improve the model performance. Cross-validation is a statistical method of evaluating generalization performance It is more stable and thorough than using a train-test split to evaluate model performance."
      ]
    },
    {
      "cell_type": "code",
      "execution_count": null,
      "id": "f183a215-75be-41cf-9c46-f4f7787b1e5b",
      "metadata": {
        "id": "f183a215-75be-41cf-9c46-f4f7787b1e5b",
        "outputId": "ab3534b5-61ed-44c0-b83f-79a864cf39d2"
      },
      "outputs": [
        {
          "name": "stdout",
          "output_type": "stream",
          "text": [
            "Cross-validation scores:[0.8515625 0.8671875 0.859375  0.8359375 0.828125  0.8359375 0.8046875\n",
            " 0.8046875 0.8046875]\n"
          ]
        }
      ],
      "source": [
        "# Applying 10-Fold Cross Validation\n",
        "\n",
        "from sklearn.model_selection import cross_val_score\n",
        "\n",
        "scores = cross_val_score(knn, X_train, y_train, cv = 9, scoring='accuracy')\n",
        "\n",
        "print('Cross-validation scores:{}'.format(scores))"
      ]
    },
    {
      "cell_type": "code",
      "execution_count": null,
      "id": "d9916dae-faa8-43dc-b3f1-0b2e72cd333f",
      "metadata": {
        "id": "d9916dae-faa8-43dc-b3f1-0b2e72cd333f",
        "outputId": "361dce0a-6da7-4129-c597-d9e6b9739cc9"
      },
      "outputs": [
        {
          "name": "stdout",
          "output_type": "stream",
          "text": [
            "Average cross-validation score: 0.8325\n"
          ]
        }
      ],
      "source": [
        "# compute Average cross-validation score\n",
        "\n",
        "print('Average cross-validation score: {:.4f}'.format(scores.mean()))"
      ]
    },
    {
      "cell_type": "markdown",
      "id": "9630df05-3f2c-4645-8474-1493879b607b",
      "metadata": {
        "id": "9630df05-3f2c-4645-8474-1493879b607b"
      },
      "source": [
        "### Interpretation\n",
        "\n",
        "- Using the mean cross-validation, we can conclude that we expect the model to be around 83.25 % accurate on average.\n",
        "\n",
        "- If we look at all the 9 scores produced by the 9-fold cross-validation, we can also conclude that there is a relatively variance in the accuracy between folds, ranging from 87% accuracy to 80% accuracy. So, we can conclude that the model is very dependent on the particular folds used for training, but it also be the consequence of the small size of the dataset.\n",
        "\n",
        "- We can see that 9-fold cross-validation accuracy does not result in performance improvement for this model."
      ]
    },
    {
      "cell_type": "markdown",
      "id": "78e3edef-47a3-4ac6-bc75-4bc590798d94",
      "metadata": {
        "id": "78e3edef-47a3-4ac6-bc75-4bc590798d94"
      },
      "source": [
        "# 11.Exorting Model to Pickle"
      ]
    },
    {
      "cell_type": "code",
      "execution_count": null,
      "id": "20894e92-551f-4df9-95cf-077fecb6863d",
      "metadata": {
        "id": "20894e92-551f-4df9-95cf-077fecb6863d"
      },
      "outputs": [],
      "source": [
        "import pickle\n",
        "\n",
        "pickle.dump(knn,open('mode_1.pkl','wb'))\n",
        "model=pickle.load(open('mode_1.pkl','rb'))"
      ]
    },
    {
      "cell_type": "markdown",
      "id": "86e0ce39-a7a7-4e40-8e51-0c9835f05bba",
      "metadata": {
        "id": "86e0ce39-a7a7-4e40-8e51-0c9835f05bba"
      },
      "source": [
        "# 12. Results and Conclusion"
      ]
    },
    {
      "cell_type": "markdown",
      "id": "81127ccd-3f7a-4f81-9e6c-fed58b47524b",
      "metadata": {
        "id": "81127ccd-3f7a-4f81-9e6c-fed58b47524b"
      },
      "source": [
        "1. In this project, We build a kNN classifier model to classify the tool insert whether it needs replacement or not. The model yields very good performance as indicated by the model accuracy which was found to be 0.8264 with k=10.\n",
        "\n",
        "2. With k=3, the training-set accuracy score is 0.8524 while the test-set accuracy to be 0.8194. These two values are quite comparable. So, there is no question of overfitting.\n",
        "\n",
        "3. We have compared the model accuracy score which is 0.8194 with null accuracy score which is 0.6394. So, we can conclude that our K Nearest Neighbors model is doing a very good job in predicting the class labels.\n",
        "\n",
        "\n",
        "4. Our original model accuracy score with k=3 is 0.8194. Now, we can see that we get decreased accuracy score of 0.8164 with k=5 and k=6. But, if we increase the value of k further, this would result in enhanced accuracy. With k=7 and k=8 we get accuracy score of 0.8229. Later for k= 10,we get accuracy score of 0.8264. So, it results in performance improvement. If we increase k to 12, then accuracy decreases again to 0.8194.So, we can conclude that our optimal value of k is 10.\n",
        "\n",
        "5. Using the mean cross-validation, we can conclude that we expect the model to be around 83.25 % accurate on average.\n",
        "\n",
        "6. If we look at all the 9 scores produced by the 9-fold cross-validation, we can also conclude that there is a relatively variance in the accuracy between folds, ranging from 87% accuracy to 80% accuracy. So, we can conclude that the model is very dependent on the particular folds used for training, but it also be the consequence of the small size of the dataset.\n",
        "\n"
      ]
    },
    {
      "cell_type": "code",
      "execution_count": null,
      "id": "bdc73a01-5b78-4bab-990c-a76e8c4d7229",
      "metadata": {
        "id": "bdc73a01-5b78-4bab-990c-a76e8c4d7229"
      },
      "outputs": [],
      "source": [
        ""
      ]
    }
  ],
  "metadata": {
    "kernelspec": {
      "display_name": "Python 3",
      "language": "python",
      "name": "python3"
    },
    "language_info": {
      "codemirror_mode": {
        "name": "ipython",
        "version": 3
      },
      "file_extension": ".py",
      "mimetype": "text/x-python",
      "name": "python",
      "nbconvert_exporter": "python",
      "pygments_lexer": "ipython3",
      "version": "3.8.8"
    },
    "colab": {
      "name": "Spicer_notebook.ipynb",
      "provenance": []
    }
  },
  "nbformat": 4,
  "nbformat_minor": 5
}